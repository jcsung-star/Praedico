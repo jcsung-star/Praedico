{
 "cells": [
  {
   "cell_type": "code",
   "execution_count": 1,
   "id": "c3db1678-0e8b-436b-bff0-9d7fe89f95cd",
   "metadata": {},
   "outputs": [],
   "source": [
    "import streamlit as st\n",
    "import pandas as pd\n",
    "import base64\n",
    "import matplotlib.pyplot as plt\n",
    "import seaborn as sns\n",
    "import numpy as np\n",
    "from PIL import Image\n",
    "import pickle\n",
    "import sklearn\n",
    "import os\n",
    "\n",
    "from sklearn.model_selection import train_test_split\n",
    "from sklearn.neural_network import MLPRegressor\n",
    "from sklearn.metrics import r2_score, mean_squared_error, mean_absolute_error"
   ]
  },
  {
   "cell_type": "code",
   "execution_count": 7,
   "id": "a7a74dbe-b58f-4d1b-ab8a-94a55f492814",
   "metadata": {},
   "outputs": [],
   "source": [
    "model1 = pickle.load(open('MLP_model.sav','rb'))\n",
    "model2 = pickle.load(open('RF_model.sav','rb'))\n",
    "model3 = pickle.load(open('GB_model.sav','rb'))"
   ]
  },
  {
   "cell_type": "code",
   "execution_count": null,
   "id": "582437b0-d2ba-4e12-b8fc-7f8cf92a4e98",
   "metadata": {},
   "outputs": [],
   "source": [
    "path = (\"./resources/Team_df.csv\")\n",
    "com_data = pd.read_csv(path)"
   ]
  },
  {
   "cell_type": "code",
   "execution_count": 4,
   "id": "e3527492-9517-4776-a79b-7e970cc61e06",
   "metadata": {},
   "outputs": [
    {
     "name": "stderr",
     "output_type": "stream",
     "text": [
      "/opt/anaconda3/envs/dev/lib/python3.7/site-packages/pandas/core/frame.py:2963: SettingWithCopyWarning: \n",
      "A value is trying to be set on a copy of a slice from a DataFrame.\n",
      "Try using .loc[row_indexer,col_indexer] = value instead\n",
      "\n",
      "See the caveats in the documentation: https://pandas.pydata.org/pandas-docs/stable/user_guide/indexing.html#returning-a-view-versus-a-copy\n",
      "  self[k1] = value[k2]\n",
      "/opt/anaconda3/envs/dev/lib/python3.7/site-packages/ipykernel_launcher.py:22: SettingWithCopyWarning: \n",
      "A value is trying to be set on a copy of a slice from a DataFrame.\n",
      "Try using .loc[row_indexer,col_indexer] = value instead\n",
      "\n",
      "See the caveats in the documentation: https://pandas.pydata.org/pandas-docs/stable/user_guide/indexing.html#returning-a-view-versus-a-copy\n",
      "/opt/anaconda3/envs/dev/lib/python3.7/site-packages/pandas/core/indexing.py:966: SettingWithCopyWarning: \n",
      "A value is trying to be set on a copy of a slice from a DataFrame.\n",
      "Try using .loc[row_indexer,col_indexer] = value instead\n",
      "\n",
      "See the caveats in the documentation: https://pandas.pydata.org/pandas-docs/stable/user_guide/indexing.html#returning-a-view-versus-a-copy\n",
      "  self.obj[item] = s\n"
     ]
    }
   ],
   "source": [
    "# get index of every team's data\n",
    "team_index = com_data['Team']\n",
    "\n",
    "# Remove Opponent, Score, Result\n",
    "mlp_model_data = com_data[['Team', 'Opp', 'TmScore', 'O_1stD', 'O_Tot_yd', 'O_P_Yd', 'O_R_Yd', 'O_TO',\n",
    "                         'D_1stD', 'D_Tot_Yd', 'D_P_Yd', 'D_R_Yd', 'D_TO', 'Home','Prediction_LR','Prediction_ADA']]\n",
    "\n",
    "\n",
    "# change to season stats\n",
    "season_stats = ['O_1stD', 'O_Tot_yd', 'O_P_Yd', 'O_R_Yd', 'O_TO',\n",
    "                         'D_1stD', 'D_Tot_Yd', 'D_P_Yd', 'D_R_Yd', 'D_TO']\n",
    "\n",
    "mlp_model_data[season_stats] = mlp_model_data[season_stats] * 16\n",
    "\n",
    "# standardise the data\n",
    "from sklearn import preprocessing\n",
    "\n",
    "sd_data = ['O_1stD', 'O_Tot_yd', 'O_P_Yd', 'O_R_Yd', 'O_TO',\n",
    "                         'D_1stD', 'D_Tot_Yd', 'D_P_Yd', 'D_R_Yd', 'D_TO','Prediction_LR','Prediction_ADA']\n",
    "\n",
    "\n",
    "mlp_model_data[sd_data] = preprocessing.scale(mlp_model_data[sd_data])\n",
    "\n",
    "#get indexs of every teams\n",
    "team_index = com_data['Team']\n",
    "\n",
    "mlp_model_data = pd.get_dummies(mlp_model_data)"
   ]
  },
  {
   "cell_type": "code",
   "execution_count": 5,
   "id": "30b25bbe-7462-42bb-a579-fb492cef40c9",
   "metadata": {},
   "outputs": [
    {
     "ename": "NameError",
     "evalue": "name 'GB_model' is not defined",
     "output_type": "error",
     "traceback": [
      "\u001b[0;31m---------------------------------------------------------------------------\u001b[0m",
      "\u001b[0;31mNameError\u001b[0m                                 Traceback (most recent call last)",
      "\u001b[0;32m/var/folders/xn/d9p0xm1s6qsf6_xczswgw90h0000gn/T/ipykernel_3129/2830501895.py\u001b[0m in \u001b[0;36m<module>\u001b[0;34m\u001b[0m\n\u001b[1;32m      1\u001b[0m \u001b[0mpd\u001b[0m\u001b[0;34m.\u001b[0m\u001b[0moptions\u001b[0m\u001b[0;34m.\u001b[0m\u001b[0mdisplay\u001b[0m\u001b[0;34m.\u001b[0m\u001b[0mmax_rows\u001b[0m \u001b[0;34m=\u001b[0m \u001b[0;32mNone\u001b[0m\u001b[0;34m\u001b[0m\u001b[0;34m\u001b[0m\u001b[0m\n\u001b[1;32m      2\u001b[0m \u001b[0;34m\u001b[0m\u001b[0m\n\u001b[0;32m----> 3\u001b[0;31m \u001b[0mimportance\u001b[0m \u001b[0;34m=\u001b[0m \u001b[0mGB_model\u001b[0m\u001b[0;34m.\u001b[0m\u001b[0mfeature_importances_\u001b[0m\u001b[0;34m\u001b[0m\u001b[0;34m\u001b[0m\u001b[0m\n\u001b[0m\u001b[1;32m      4\u001b[0m \u001b[0;34m\u001b[0m\u001b[0m\n\u001b[1;32m      5\u001b[0m \u001b[0mfeature_names\u001b[0m \u001b[0;34m=\u001b[0m \u001b[0mgb_model_data\u001b[0m\u001b[0;34m.\u001b[0m\u001b[0mdrop\u001b[0m\u001b[0;34m(\u001b[0m\u001b[0;34m'TmScore'\u001b[0m\u001b[0;34m,\u001b[0m \u001b[0maxis\u001b[0m\u001b[0;34m=\u001b[0m\u001b[0;36m1\u001b[0m\u001b[0;34m)\u001b[0m\u001b[0;34m.\u001b[0m\u001b[0mcolumns\u001b[0m\u001b[0;34m\u001b[0m\u001b[0;34m\u001b[0m\u001b[0m\n",
      "\u001b[0;31mNameError\u001b[0m: name 'GB_model' is not defined"
     ]
    }
   ],
   "source": [
    "pd.options.display.max_rows = None\n",
    "\n",
    "importance = GB_model.feature_importances_\n",
    "\n",
    "feature_names = gb_model_data.drop('TmScore', axis=1).columns\n",
    "\n",
    "d = {'Var_Name': feature_names, 'Imp': importance}\n",
    "df = pd.DataFrame(data=d)\n",
    "df = df.sort_values(by= ['Imp'], ascending = False).reset_index(drop=True)\n",
    "df.head(15)\n",
    "\n",
    "# function that return the score of two teams playing\n",
    "\n",
    "pd.options.display.max_columns = None\n",
    "\n",
    "# Create playoff test dataset from season averages\n",
    "\n",
    "def Score_Predictor(home_team, away_team):\n",
    "    team1 = home_team\n",
    "    team2 = away_team\n",
    "    \n",
    "    team1_data = gb_model_data[com_data['Team'] == team1].drop('TmScore', axis=1).reset_index(drop=True)\n",
    "    team2_data = gb_model_data[com_data['Team'] == team2].drop('TmScore', axis=1).reset_index(drop=True)\n",
    "    \n",
    "    week_slice = slice(1,16)\n",
    "    \n",
    "    #1 Remove if no team names\n",
    "    team1_test = pd.DataFrame(team1_data[week_slice].mean(axis=0)).T #select week to use as average\n",
    "    team1_test\n",
    "    opp_columns = team1_test.filter(like='Opp').columns\n",
    "    \n",
    "    team1_test[opp_columns] = 0\n",
    "    team1_test['Opp_' + team2] = 1\n",
    "    team1_test['Home'] = 1\n",
    "    \n",
    "    #2\n",
    "    team2_test = pd.DataFrame(team2_data[week_slice].mean(axis=0)).T #select week to use as average\n",
    "    opp_columns = team2_test.filter(like='Opp').columns\n",
    "    \n",
    "    team2_test[opp_columns] = 0\n",
    "    team2_test['Opp_' + team1] = 1\n",
    "    team2_test['Home'] = 0 #remove home field advantage\n",
    "    \n",
    "    # head to head matchup\n",
    "    team1_test[['D_1stD','D_Tot_Yd','D_P_Yd','D_R_Yd','D_TO']] = team2_test[['O_1stD','O_Tot_yd','O_P_Yd','O_R_Yd','O_TO']]\n",
    "    team2_test[['D_1stD','D_Tot_Yd','D_P_Yd','D_R_Yd','D_TO']] = team1_test[['O_1stD','O_Tot_yd','O_P_Yd','O_R_Yd','O_TO']]\n",
    "    \n",
    "    X_Playoff_test = pd.concat([team1_test, team2_test])\n",
    "    X_Playoff_test.fillna(0, inplace = True) \n",
    "    \n",
    "    scores = GB_model.predict(X_Playoff_test)\n",
    "    print(team1, \"will score\", round(scores[0], 1))\n",
    "    print(team2, \"will score\", round(scores[1], 1))\n",
    "    \n",
    "    if scores[0] > scores[1]:\n",
    "        winner = team1\n",
    "    else:\n",
    "        winner = team2\n",
    "        \n",
    "    print(winner, \"are the WINNERS!!!\")\n",
    "    \n",
    "    return scores, winner"
   ]
  },
  {
   "cell_type": "code",
   "execution_count": 6,
   "id": "f42c8338-b248-4ff8-99f1-268f999123ca",
   "metadata": {},
   "outputs": [
    {
     "ename": "NameError",
     "evalue": "name 'Score_Predictor' is not defined",
     "output_type": "error",
     "traceback": [
      "\u001b[0;31m---------------------------------------------------------------------------\u001b[0m",
      "\u001b[0;31mNameError\u001b[0m                                 Traceback (most recent call last)",
      "\u001b[0;32m/var/folders/xn/d9p0xm1s6qsf6_xczswgw90h0000gn/T/ipykernel_3129/71020151.py\u001b[0m in \u001b[0;36m<module>\u001b[0;34m\u001b[0m\n\u001b[0;32m----> 1\u001b[0;31m \u001b[0mscores\u001b[0m\u001b[0;34m,\u001b[0m \u001b[0mwinner\u001b[0m \u001b[0;34m=\u001b[0m \u001b[0mScore_Predictor\u001b[0m\u001b[0;34m(\u001b[0m\u001b[0;34m'Philadelphia Eagles'\u001b[0m\u001b[0;34m,\u001b[0m \u001b[0;34m'Tampa Bay Buccaneers'\u001b[0m\u001b[0;34m)\u001b[0m\u001b[0;34m\u001b[0m\u001b[0;34m\u001b[0m\u001b[0m\n\u001b[0m",
      "\u001b[0;31mNameError\u001b[0m: name 'Score_Predictor' is not defined"
     ]
    }
   ],
   "source": [
    "scores, winner = Score_Predictor('Philadelphia Eagles', 'Tampa Bay Buccaneers')"
   ]
  },
  {
   "cell_type": "code",
   "execution_count": null,
   "id": "313e80dd-aaf8-457d-9f6f-fa763e1a36c5",
   "metadata": {},
   "outputs": [],
   "source": []
  }
 ],
 "metadata": {
  "kernelspec": {
   "display_name": "Python 3 (ipykernel)",
   "language": "python",
   "name": "python3"
  },
  "language_info": {
   "codemirror_mode": {
    "name": "ipython",
    "version": 3
   },
   "file_extension": ".py",
   "mimetype": "text/x-python",
   "name": "python",
   "nbconvert_exporter": "python",
   "pygments_lexer": "ipython3",
   "version": "3.7.7"
  }
 },
 "nbformat": 4,
 "nbformat_minor": 5
}
