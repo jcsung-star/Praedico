{
 "cells": [
  {
   "cell_type": "code",
   "execution_count": 24,
   "id": "e71456a1-e013-4366-b794-e3dd0b065604",
   "metadata": {},
   "outputs": [
    {
     "data": {
      "text/plain": [
       "DeltaGenerator(_root_container=1, _provided_cursor=None, _parent=DeltaGenerator(_root_container=0, _provided_cursor=None, _parent=None, _block_type=None, _form_data=None), _block_type=None, _form_data=None)"
      ]
     },
     "execution_count": 24,
     "metadata": {},
     "output_type": "execute_result"
    }
   ],
   "source": [
    "import streamlit as st\n",
    "import pandas as pd\n",
    "import base64\n",
    "import matplotlib.pyplot as plt\n",
    "import seaborn as sns\n",
    "import numpy as np\n",
    "import pickle\n",
    "import os\n",
    "\n",
    "from sklearn.model_selection import train_test_split\n",
    "from sklearn.neural_network import MLPRegressor\n",
    "from sklearn.metrics import r2_score, mean_squared_error, mean_absolute_error\n",
    "\n",
    "st.title('NFL Football Stats and Predictor')\n",
    "\n",
    "st.markdown(\"\"\"\n",
    "This app provides NFL Football stats data!\n",
    "*  We will also give a prediction on the playoff games for this year!\n",
    "\"\"\")\n",
    "\n",
    "#st.sidebar.header('Playoff Teams')\n",
    "#selected_year = st.sidebar.selectbox('Year', list(reversed(range(2015,2021))))\n",
    "st.sidebar.header('Playoff Teams')"
   ]
  },
  {
   "cell_type": "code",
   "execution_count": 25,
   "id": "1ab7e2cb-25b3-45f9-a952-5ff4c1b212c5",
   "metadata": {},
   "outputs": [
    {
     "data": {
      "text/plain": [
       "DeltaGenerator(_root_container=0, _provided_cursor=None, _parent=None, _block_type=None, _form_data=None)"
      ]
     },
     "execution_count": 25,
     "metadata": {},
     "output_type": "execute_result"
    }
   ],
   "source": [
    "# Sidebar - Team selection\n",
    "sorted_unique_team = [\"cin\",\"oti\",\"buf\",\"kan\",\"gnb\",\"tam\",\"dal\",\"ram\"]\n",
    "selected_team = st.sidebar.selectbox(\"Teams\", sorted_unique_team)\n",
    "\n",
    "# Web scraping of NFL player stats\n",
    "# \"https://www.pro-football-reference.com/teams/ram/2021.htm\"   \n",
    "# \"https://www.pro-football-reference.com/teams/\" + str(team) + \"/2021.htm\"\n",
    "#@st.cache\n",
    "def load_data(team): #year,\n",
    "    url = \"https://www.pro-football-reference.com/teams/\" + str(selected_team) + \"/2021.htm\"\n",
    "    df = pd.read_html(url, header = 1)\n",
    "    df = df[1]\n",
    "    return df\n",
    "teamstats = load_data(selected_team) #selected_year, \n",
    "\n",
    "st.subheader('Display Selected Team Schedule & Game Results')\n",
    "st.dataframe(teamstats)\n",
    "\n",
    "# https://discuss.streamlit.io/t/how-to-download-file-in-streamlit/1806\n",
    "def filedownload(df):\n",
    "    csv = df.to_csv(index=False)\n",
    "    b64 = base64.b64encode(csv.encode()).decode()  # strings <-> bytes conversions\n",
    "    href = f'<a href=\"data:file/csv;base64,{b64}\" download=\"playerstats.csv\">Download CSV File</a>'\n",
    "    return href\n",
    "\n",
    "st.markdown(filedownload(teamstats), unsafe_allow_html=True)"
   ]
  },
  {
   "cell_type": "code",
   "execution_count": 26,
   "id": "97c3e078-0d56-4603-bdf8-326ad62d85bf",
   "metadata": {},
   "outputs": [],
   "source": []
  },
  {
   "cell_type": "code",
   "execution_count": 27,
   "id": "7101dd56-f036-4ece-9105-53333f66ce32",
   "metadata": {},
   "outputs": [
    {
     "name": "stdout",
     "output_type": "stream",
     "text": [
      "(224, 21)\n"
     ]
    }
   ],
   "source": [
    "path = (\"./resources/Team_df.csv\")\n",
    "com_data = pd.read_csv(path)\n",
    "print(com_data.shape)\n"
   ]
  },
  {
   "cell_type": "code",
   "execution_count": 28,
   "id": "935f4448-8193-42e3-82d0-a19799ab70f2",
   "metadata": {},
   "outputs": [
    {
     "name": "stderr",
     "output_type": "stream",
     "text": [
      "2022-01-11 17:12:40.497 NumExpr defaulting to 8 threads.\n",
      "/opt/anaconda3/envs/dev/lib/python3.7/site-packages/pandas/core/frame.py:2963: SettingWithCopyWarning: \n",
      "A value is trying to be set on a copy of a slice from a DataFrame.\n",
      "Try using .loc[row_indexer,col_indexer] = value instead\n",
      "\n",
      "See the caveats in the documentation: https://pandas.pydata.org/pandas-docs/stable/user_guide/indexing.html#returning-a-view-versus-a-copy\n",
      "  self[k1] = value[k2]\n",
      "/opt/anaconda3/envs/dev/lib/python3.7/site-packages/ipykernel_launcher.py:22: SettingWithCopyWarning: \n",
      "A value is trying to be set on a copy of a slice from a DataFrame.\n",
      "Try using .loc[row_indexer,col_indexer] = value instead\n",
      "\n",
      "See the caveats in the documentation: https://pandas.pydata.org/pandas-docs/stable/user_guide/indexing.html#returning-a-view-versus-a-copy\n",
      "/opt/anaconda3/envs/dev/lib/python3.7/site-packages/pandas/core/indexing.py:966: SettingWithCopyWarning: \n",
      "A value is trying to be set on a copy of a slice from a DataFrame.\n",
      "Try using .loc[row_indexer,col_indexer] = value instead\n",
      "\n",
      "See the caveats in the documentation: https://pandas.pydata.org/pandas-docs/stable/user_guide/indexing.html#returning-a-view-versus-a-copy\n",
      "  self.obj[item] = s\n"
     ]
    }
   ],
   "source": [
    "# get index of every team's data\n",
    "team_index = com_data['Team']\n",
    "\n",
    "# Remove Opponent, Score, Result\n",
    "mlp_model_data = com_data[['Team', 'Opp', 'TmScore', 'O_1stD', 'O_Tot_yd', 'O_P_Yd', 'O_R_Yd', 'O_TO',\n",
    "                         'D_1stD', 'D_Tot_Yd', 'D_P_Yd', 'D_R_Yd', 'D_TO', 'Home']]\n",
    "#  , 'ADA_Pred_Mean', 'LOG_Prediction'\n",
    "\n",
    "# change to season stats\n",
    "season_stats = ['O_1stD', 'O_Tot_yd', 'O_P_Yd', 'O_R_Yd', 'O_TO',\n",
    "                         'D_1stD', 'D_Tot_Yd', 'D_P_Yd', 'D_R_Yd', 'D_TO']\n",
    "\n",
    "mlp_model_data[season_stats] = mlp_model_data[season_stats] * 16\n",
    "\n",
    "# standardise the data\n",
    "from sklearn import preprocessing\n",
    "\n",
    "sd_data = ['O_1stD', 'O_Tot_yd', 'O_P_Yd', 'O_R_Yd', 'O_TO',\n",
    "                         'D_1stD', 'D_Tot_Yd', 'D_P_Yd', 'D_R_Yd', 'D_TO']\n",
    "#  , 'ADA_Pred_Mean', 'LOG_Prediction'\n",
    "\n",
    "mlp_model_data[sd_data] = preprocessing.scale(mlp_model_data[sd_data])\n",
    "\n",
    "#get indexs of every teams\n",
    "team_index = com_data['Team']\n",
    "\n",
    "mlp_model_data = pd.get_dummies(mlp_model_data)\n"
   ]
  },
  {
   "cell_type": "code",
   "execution_count": null,
   "id": "cbf5622b-3132-455d-b0d9-4d82f88d46d9",
   "metadata": {},
   "outputs": [],
   "source": []
  },
  {
   "cell_type": "code",
   "execution_count": null,
   "id": "ff074b00-d529-43d4-93f3-b95292466faf",
   "metadata": {},
   "outputs": [],
   "source": []
  },
  {
   "cell_type": "code",
   "execution_count": null,
   "id": "1e806097-1022-4bc4-8db2-dd8941c8097a",
   "metadata": {},
   "outputs": [],
   "source": []
  },
  {
   "cell_type": "code",
   "execution_count": 34,
   "id": "eb44bb99-6bdc-466e-b037-61f78064c1f0",
   "metadata": {},
   "outputs": [],
   "source": [
    "model = pickle.load(open('MLP_model.sav','rb'))"
   ]
  },
  {
   "cell_type": "code",
   "execution_count": 35,
   "id": "08427e1c-d2f7-454e-bcc7-9a5dffabe8f4",
   "metadata": {},
   "outputs": [],
   "source": [
    "#model = open('MLP_model.pkl', 'rb')\n",
    "#classifier = pickle.load(model)"
   ]
  },
  {
   "cell_type": "code",
   "execution_count": 36,
   "id": "a3c7d4a7-13b0-49da-b1cf-6d1f0644c887",
   "metadata": {},
   "outputs": [],
   "source": [
    "pd.options.display.max_rows = None\n",
    "\n",
    "pd.options.display.max_columns = None\n",
    "\n",
    "# Create playoff test dataset from season averages\n",
    "\n",
    "def Score_Predictor(home_team, away_team):\n",
    "    team1 = home_team\n",
    "    team2 = away_team\n",
    "    \n",
    "    team1_data = mlp_model_data[com_data['Team'] == team1].drop('TmScore', axis=1).reset_index(drop=True)\n",
    "    team2_data = mlp_model_data[com_data['Team'] == team2].drop('TmScore', axis=1).reset_index(drop=True)\n",
    "    \n",
    "    week_slice = slice(0,16)\n",
    "    \n",
    "    #1 Remove if no team names\n",
    "    team1_test = pd.DataFrame(team1_data[week_slice].mean(axis=0)).T #select week to use as average\n",
    "    team1_test\n",
    "    opp_columns = team1_test.filter(like='Opp').columns\n",
    "    \n",
    "    team1_test[opp_columns] = 0\n",
    "    team1_test['Opp_' + team2] = 1\n",
    "    team1_test['Home'] = 1\n",
    "    \n",
    "    #2\n",
    "    team2_test = pd.DataFrame(team2_data[week_slice].mean(axis=0)).T #select week to use as average\n",
    "    opp_columns = team2_test.filter(like='Opp').columns\n",
    "    \n",
    "    team2_test[opp_columns] = 0\n",
    "    team2_test['Opp_' + team1] = 1\n",
    "    team2_test['Home'] = 1 # change to remove home field advantage\n",
    "    \n",
    "    # head to head matchup\n",
    "    team1_test[['D_1stD','D_Tot_Yd','D_P_Yd','D_R_Yd','D_TO']] = team2_test[['O_1stD','O_Tot_yd','O_P_Yd','O_R_Yd','O_TO']]\n",
    "    team2_test[['D_1stD','D_Tot_Yd','D_P_Yd','D_R_Yd','D_TO']] = team1_test[['O_1stD','O_Tot_yd','O_P_Yd','O_R_Yd','O_TO']]\n",
    "    \n",
    "    X_Playoff_test = pd.concat([team1_test, team2_test])\n",
    "    X_Playoff_test.fillna(0, inplace = True) # added to address the NANs that was causing the error\n",
    "    \n",
    "    scores = model.predict(X_Playoff_test)\n",
    "    print(team1, \"will score\", round(scores[0], 1))\n",
    "    print(team2, \"will score\", round(scores[1], 1))\n",
    "    \n",
    "    if scores[0] > scores[1]:\n",
    "        winner = team1\n",
    "    else:\n",
    "        winner = team2\n",
    "        \n",
    "    print(winner, \"are the WINNERS!!!\")\n",
    "    \n",
    "    return scores, winner"
   ]
  },
  {
   "cell_type": "code",
   "execution_count": 37,
   "id": "217f3b39-e0df-47d1-a264-ead1c0c3f093",
   "metadata": {},
   "outputs": [
    {
     "name": "stdout",
     "output_type": "stream",
     "text": [
      "Philadelphia Eagles will score 26.2\n",
      "Tampa Bay Buccaneers will score 29.2\n",
      "Tampa Bay Buccaneers are the WINNERS!!!\n"
     ]
    }
   ],
   "source": [
    "scores, winner = Score_Predictor('Philadelphia Eagles', 'Tampa Bay Buccaneers')"
   ]
  },
  {
   "cell_type": "code",
   "execution_count": null,
   "id": "0493ec41-5a04-4b19-9ecd-60546e867af8",
   "metadata": {},
   "outputs": [],
   "source": []
  },
  {
   "cell_type": "code",
   "execution_count": null,
   "id": "25f7ec4f-0b00-4bd6-8fa8-8e8e5101462e",
   "metadata": {},
   "outputs": [],
   "source": []
  },
  {
   "cell_type": "code",
   "execution_count": null,
   "id": "c8617e0d-3ccd-49af-ac4d-6c195f2cbac9",
   "metadata": {},
   "outputs": [],
   "source": []
  },
  {
   "cell_type": "code",
   "execution_count": null,
   "id": "5bf9d0fb-d746-499a-94a5-260781ca0b63",
   "metadata": {},
   "outputs": [],
   "source": []
  },
  {
   "cell_type": "code",
   "execution_count": null,
   "id": "31033e65-f4b4-41b3-a108-b9064614d075",
   "metadata": {},
   "outputs": [],
   "source": []
  },
  {
   "cell_type": "code",
   "execution_count": null,
   "id": "4611e896-e438-4a16-9225-617d80ad956c",
   "metadata": {},
   "outputs": [],
   "source": []
  },
  {
   "cell_type": "code",
   "execution_count": null,
   "id": "f50624cb-0ee9-41fb-9e8d-1d6bb10bfef5",
   "metadata": {},
   "outputs": [],
   "source": []
  },
  {
   "cell_type": "code",
   "execution_count": null,
   "id": "9566fef6-8a29-4d55-a2a5-6f3635200f74",
   "metadata": {},
   "outputs": [],
   "source": []
  },
  {
   "cell_type": "code",
   "execution_count": null,
   "id": "426a2488-7a52-4e48-acd4-3d2a6e74b378",
   "metadata": {},
   "outputs": [],
   "source": []
  },
  {
   "cell_type": "code",
   "execution_count": null,
   "id": "33cfc73e-d7ac-492b-acf7-38c86b3f9aba",
   "metadata": {},
   "outputs": [],
   "source": []
  },
  {
   "cell_type": "code",
   "execution_count": null,
   "id": "b031bce2-a536-4c77-9cdb-7f8fcf01800f",
   "metadata": {},
   "outputs": [],
   "source": []
  },
  {
   "cell_type": "code",
   "execution_count": 14,
   "id": "b50dd674-a690-4d25-9a35-8e297671dc2f",
   "metadata": {},
   "outputs": [
    {
     "ename": "SyntaxError",
     "evalue": "invalid syntax (1478235338.py, line 1)",
     "output_type": "error",
     "traceback": [
      "\u001b[0;36m  File \u001b[0;32m\"/var/folders/xn/d9p0xm1s6qsf6_xczswgw90h0000gn/T/ipykernel_62589/1478235338.py\"\u001b[0;36m, line \u001b[0;32m1\u001b[0m\n\u001b[0;31m    def predict_team(Buffalo Bills, Pittsburgh Steelers, Kansas City Chiefs,Las Vegas Raiders,\u001b[0m\n\u001b[0m                                 ^\u001b[0m\n\u001b[0;31mSyntaxError\u001b[0m\u001b[0;31m:\u001b[0m invalid syntax\n"
     ]
    }
   ],
   "source": [
    "def predict_team(Buffalo Bills, Pittsburgh Steelers, Kansas City Chiefs,Las Vegas Raiders,\n",
    "                      Tennessee Titans,Los Angeles Rams,New England Patriots,Tampa Bay Buccaneers,\n",
    "                      San Fransisco 49ers,Cincinnati Bengals,Dallas Cowboys,Philadelphia Eagles,\n",
    "                      Green Bay Packers,Arizona Cardinals):\n",
    "    input=np.array([[Length,Diameter,Height,Whole_weight,Shucked_weight,\n",
    "                     Viscera_weight,Shell_weight]]).astype(np.float64)\n",
    "    prediction = model.predict(input)\n",
    "    \n",
    "    return int(prediction)"
   ]
  },
  {
   "cell_type": "code",
   "execution_count": null,
   "id": "f508d6c9-1370-4d97-9394-55b2d71ae2bd",
   "metadata": {},
   "outputs": [],
   "source": []
  },
  {
   "cell_type": "code",
   "execution_count": null,
   "id": "cf3d398e-25a2-49fc-9e86-c6ef93851a54",
   "metadata": {},
   "outputs": [],
   "source": []
  },
  {
   "cell_type": "code",
   "execution_count": 7,
   "id": "24d1fc5c-2b61-42f2-af83-187a5c8d7ee0",
   "metadata": {},
   "outputs": [
    {
     "data": {
      "text/plain": [
       "DeltaGenerator(_root_container=0, _provided_cursor=None, _parent=None, _block_type=None, _form_data=None)"
      ]
     },
     "execution_count": 7,
     "metadata": {},
     "output_type": "execute_result"
    }
   ],
   "source": [
    "col1, col2 = st.columns(2)\n",
    "col1.header(\"teams\")\n",
    "\n",
    "col2.header(\"Prediction\")"
   ]
  },
  {
   "cell_type": "code",
   "execution_count": null,
   "id": "c066b085-687f-4131-bb06-0407e42b93a2",
   "metadata": {},
   "outputs": [],
   "source": [
    "button1 = st.button(\"Run Prediction\")\n",
    "if button1:\n",
    "    st.write(\"prediction are being calculated...\")\n",
    "    result = predict_model()\n",
    "    \n",
    "    \n"
   ]
  },
  {
   "cell_type": "code",
   "execution_count": null,
   "id": "6ecedf19-490e-4fb6-8c07-d12e88507e5e",
   "metadata": {},
   "outputs": [],
   "source": [
    "#test"
   ]
  },
  {
   "cell_type": "code",
   "execution_count": 10,
   "id": "2851732a-88fa-4483-9a8f-44307dd9c01c",
   "metadata": {},
   "outputs": [],
   "source": [
    "bills = st.image(\"chiefslogo.png\", width=40)"
   ]
  },
  {
   "cell_type": "code",
   "execution_count": null,
   "id": "d50ee8e1-1aed-4756-82c1-6b586af0c7d7",
   "metadata": {},
   "outputs": [],
   "source": []
  },
  {
   "cell_type": "code",
   "execution_count": null,
   "id": "06bcc79c-dc78-4882-9726-d66b033a2909",
   "metadata": {},
   "outputs": [],
   "source": []
  },
  {
   "cell_type": "code",
   "execution_count": null,
   "id": "86ba9b8d-4d12-4f1d-83b6-97c5ee2ad9ce",
   "metadata": {},
   "outputs": [],
   "source": []
  },
  {
   "cell_type": "code",
   "execution_count": null,
   "id": "5bf782c1-d958-4f5d-a120-b0ecd549406c",
   "metadata": {},
   "outputs": [],
   "source": []
  },
  {
   "cell_type": "code",
   "execution_count": null,
   "id": "a84ec66a-7163-4dce-af34-3d00ff895ff6",
   "metadata": {},
   "outputs": [],
   "source": []
  },
  {
   "cell_type": "code",
   "execution_count": null,
   "id": "d0c2a9ca-3af7-4aeb-9628-9b102dc44483",
   "metadata": {},
   "outputs": [],
   "source": [
    "# @st.cache(allow_output_mutation=True)\n",
    "def load_model(model_name):\n",
    "    LR = LR.load(model_name)\n",
    "    return (LR)\n",
    "LR = load_model('model_name')"
   ]
  },
  {
   "cell_type": "code",
   "execution_count": null,
   "id": "c4531d0c-ab7a-4506-bdfc-71aeeb9b55ca",
   "metadata": {},
   "outputs": [],
   "source": [
    "def load_model():\n",
    "    model = tf.keras.models.load_model(\"./resourses/model.hdf5\")\n",
    "    return model\n",
    "model = load_model()"
   ]
  },
  {
   "cell_type": "code",
   "execution_count": null,
   "id": "fd3037a5-1ef1-4141-bd03-ef87759a4a95",
   "metadata": {},
   "outputs": [],
   "source": []
  },
  {
   "cell_type": "code",
   "execution_count": 6,
   "id": "951da08a-69e3-4b67-900a-9047adefb6fb",
   "metadata": {},
   "outputs": [
    {
     "data": {
      "text/plain": [
       "DeltaGenerator(_root_container=1, _provided_cursor=None, _parent=DeltaGenerator(_root_container=0, _provided_cursor=None, _parent=None, _block_type=None, _form_data=None), _block_type=None, _form_data=None)"
      ]
     },
     "execution_count": 6,
     "metadata": {},
     "output_type": "execute_result"
    }
   ],
   "source": [
    "st.sidebar.image(\"chiefslogo.png\", width=40)"
   ]
  },
  {
   "cell_type": "code",
   "execution_count": 11,
   "id": "91599c9f-5a88-44b5-bcf8-eaace476d510",
   "metadata": {},
   "outputs": [],
   "source": [
    "# saving the model to a file to be able to use it later in streamlit. save it in same folder as the .py file\n",
    "import pickle\n",
    "pickle.dump(lr, open(' ./model.sav', 'wb'))"
   ]
  },
  {
   "cell_type": "code",
   "execution_count": null,
   "id": "b6ecc6c7-d88a-43ea-ba5e-863c2e0f6451",
   "metadata": {},
   "outputs": [],
   "source": [
    "#load model in streamlit\n",
    "model = pickle.load(open('model.sav', 'rb'))"
   ]
  },
  {
   "cell_type": "code",
   "execution_count": null,
   "id": "dbc620d9-1427-4139-837e-714124d4c797",
   "metadata": {},
   "outputs": [],
   "source": [
    "# Fit the model on training set\n",
    "model = LogisticRegression()\n",
    "model.fit(X_train, Y_train)\n",
    "# save the model to disk\n",
    "filename = 'finalized_model.sav'\n",
    "pickle.dump(model, open(filename, 'wb'))\n",
    " \n",
    "# load the model from disk\n",
    "loaded_model = pickle.load(open(filename, 'rb'))\n",
    "result = loaded_model.score(X_test, Y_test)\n",
    "print(result)    \n",
    " \n"
   ]
  },
  {
   "cell_type": "code",
   "execution_count": null,
   "id": "74919cdc-7d0e-4309-82f1-9ee913107818",
   "metadata": {},
   "outputs": [],
   "source": []
  },
  {
   "cell_type": "code",
   "execution_count": null,
   "id": "9e865c37-daf5-4020-90e6-3df331f49c97",
   "metadata": {},
   "outputs": [],
   "source": []
  },
  {
   "cell_type": "code",
   "execution_count": null,
   "id": "1faf1d71-09e3-4b0b-b914-6bbc5652a792",
   "metadata": {},
   "outputs": [],
   "source": []
  },
  {
   "cell_type": "code",
   "execution_count": null,
   "id": "ec9bd60a-a545-45f6-ae82-b143661ec966",
   "metadata": {},
   "outputs": [],
   "source": []
  }
 ],
 "metadata": {
  "kernelspec": {
   "display_name": "Python 3 (ipykernel)",
   "language": "python",
   "name": "python3"
  },
  "language_info": {
   "codemirror_mode": {
    "name": "ipython",
    "version": 3
   },
   "file_extension": ".py",
   "mimetype": "text/x-python",
   "name": "python",
   "nbconvert_exporter": "python",
   "pygments_lexer": "ipython3",
   "version": "3.7.7"
  }
 },
 "nbformat": 4,
 "nbformat_minor": 5
}
