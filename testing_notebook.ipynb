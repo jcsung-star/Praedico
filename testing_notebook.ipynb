{
 "cells": [
  {
   "cell_type": "code",
   "execution_count": 2,
   "id": "e71456a1-e013-4366-b794-e3dd0b065604",
   "metadata": {},
   "outputs": [
    {
     "data": {
      "text/plain": [
       "DeltaGenerator(_root_container=1, _provided_cursor=None, _parent=DeltaGenerator(_root_container=0, _provided_cursor=None, _parent=None, _block_type=None, _form_data=None), _block_type=None, _form_data=None)"
      ]
     },
     "execution_count": 2,
     "metadata": {},
     "output_type": "execute_result"
    }
   ],
   "source": [
    "import streamlit as st\n",
    "import pandas as pd\n",
    "import base64\n",
    "import matplotlib.pyplot as plt\n",
    "import seaborn as sns\n",
    "import numpy as np\n",
    "\n",
    "st.title('NFL Football Stats and Predictor')\n",
    "\n",
    "st.markdown(\"\"\"\n",
    "This app provides NFL Football stats data!\n",
    "*  We will also give a prediction on the playoff games for this year!\n",
    "\"\"\")\n",
    "\n",
    "#st.sidebar.header('Playoff Teams')\n",
    "#selected_year = st.sidebar.selectbox('Year', list(reversed(range(2015,2021))))\n",
    "st.sidebar.header('Playoff Teams')"
   ]
  },
  {
   "cell_type": "code",
   "execution_count": 5,
   "id": "1ab7e2cb-25b3-45f9-a952-5ff4c1b212c5",
   "metadata": {},
   "outputs": [
    {
     "data": {
      "text/plain": [
       "DeltaGenerator(_root_container=0, _provided_cursor=None, _parent=None, _block_type=None, _form_data=None)"
      ]
     },
     "execution_count": 5,
     "metadata": {},
     "output_type": "execute_result"
    }
   ],
   "source": [
    "# Sidebar - Team selection\n",
    "sorted_unique_team = [\"cin\",\"oti\",\"buf\",\"kan\",\"gnb\",\"tam\",\"dal\",\"ram\"]\n",
    "selected_team = st.sidebar.selectbox(\"Teams\", sorted_unique_team)\n",
    "\n",
    "# Web scraping of NFL player stats\n",
    "# \"https://www.pro-football-reference.com/teams/ram/2021.htm\"   \n",
    "# \"https://www.pro-football-reference.com/teams/\" + str(team) + \"/2021.htm\"\n",
    "#@st.cache\n",
    "def load_data(team): #year,\n",
    "    url = \"https://www.pro-football-reference.com/teams/\" + str(selected_team) + \"/2021.htm\"\n",
    "    df = pd.read_html(url, header = 1)\n",
    "    df = df[1]\n",
    "    return df\n",
    "teamstats = load_data(selected_team) #selected_year, \n",
    "\n",
    "st.subheader('Display Selected Team Schedule & Game Results')\n",
    "st.dataframe(teamstats)\n",
    "\n",
    "# https://discuss.streamlit.io/t/how-to-download-file-in-streamlit/1806\n",
    "def filedownload(df):\n",
    "    csv = df.to_csv(index=False)\n",
    "    b64 = base64.b64encode(csv.encode()).decode()  # strings <-> bytes conversions\n",
    "    href = f'<a href=\"data:file/csv;base64,{b64}\" download=\"playerstats.csv\">Download CSV File</a>'\n",
    "    return href\n",
    "\n",
    "st.markdown(filedownload(teamstats), unsafe_allow_html=True)"
   ]
  },
  {
   "cell_type": "code",
   "execution_count": null,
   "id": "93370eab-5413-44b5-8cf8-391305513491",
   "metadata": {},
   "outputs": [],
   "source": []
  }
 ],
 "metadata": {
  "kernelspec": {
   "display_name": "Python 3 (ipykernel)",
   "language": "python",
   "name": "python3"
  },
  "language_info": {
   "codemirror_mode": {
    "name": "ipython",
    "version": 3
   },
   "file_extension": ".py",
   "mimetype": "text/x-python",
   "name": "python",
   "nbconvert_exporter": "python",
   "pygments_lexer": "ipython3",
   "version": "3.7.7"
  }
 },
 "nbformat": 4,
 "nbformat_minor": 5
}
