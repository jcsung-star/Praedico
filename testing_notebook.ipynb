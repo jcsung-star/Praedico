{
 "cells": [
  {
   "cell_type": "code",
   "execution_count": 2,
   "id": "e71456a1-e013-4366-b794-e3dd0b065604",
   "metadata": {},
   "outputs": [
    {
     "name": "stderr",
     "output_type": "stream",
     "text": [
      "2022-01-10 11:38:45.504 \n",
      "  \u001b[33m\u001b[1mWarning:\u001b[0m to view this Streamlit app on a browser, run it with the following\n",
      "  command:\n",
      "\n",
      "    streamlit run /opt/anaconda3/envs/dev/lib/python3.7/site-packages/ipykernel_launcher.py [ARGUMENTS]\n"
     ]
    },
    {
     "data": {
      "text/plain": [
       "DeltaGenerator(_root_container=1, _provided_cursor=None, _parent=DeltaGenerator(_root_container=0, _provided_cursor=None, _parent=None, _block_type=None, _form_data=None), _block_type=None, _form_data=None)"
      ]
     },
     "execution_count": 2,
     "metadata": {},
     "output_type": "execute_result"
    }
   ],
   "source": [
    "import streamlit as st\n",
    "import pandas as pd\n",
    "import base64\n",
    "import matplotlib.pyplot as plt\n",
    "import seaborn as sns\n",
    "import numpy as np\n",
    "import pickle\n",
    "\n",
    "st.title('NFL Football Stats and Predictor')\n",
    "\n",
    "st.markdown(\"\"\"\n",
    "This app provides NFL Football stats data!\n",
    "*  We will also give a prediction on the playoff games for this year!\n",
    "\"\"\")\n",
    "\n",
    "#st.sidebar.header('Playoff Teams')\n",
    "#selected_year = st.sidebar.selectbox('Year', list(reversed(range(2015,2021))))\n",
    "st.sidebar.header('Playoff Teams')"
   ]
  },
  {
   "cell_type": "code",
   "execution_count": 5,
   "id": "1ab7e2cb-25b3-45f9-a952-5ff4c1b212c5",
   "metadata": {},
   "outputs": [
    {
     "data": {
      "text/plain": [
       "DeltaGenerator(_root_container=0, _provided_cursor=None, _parent=None, _block_type=None, _form_data=None)"
      ]
     },
     "execution_count": 5,
     "metadata": {},
     "output_type": "execute_result"
    }
   ],
   "source": [
    "# Sidebar - Team selection\n",
    "sorted_unique_team = [\"cin\",\"oti\",\"buf\",\"kan\",\"gnb\",\"tam\",\"dal\",\"ram\"]\n",
    "selected_team = st.sidebar.selectbox(\"Teams\", sorted_unique_team)\n",
    "\n",
    "# Web scraping of NFL player stats\n",
    "# \"https://www.pro-football-reference.com/teams/ram/2021.htm\"   \n",
    "# \"https://www.pro-football-reference.com/teams/\" + str(team) + \"/2021.htm\"\n",
    "#@st.cache\n",
    "def load_data(team): #year,\n",
    "    url = \"https://www.pro-football-reference.com/teams/\" + str(selected_team) + \"/2021.htm\"\n",
    "    df = pd.read_html(url, header = 1)\n",
    "    df = df[1]\n",
    "    return df\n",
    "teamstats = load_data(selected_team) #selected_year, \n",
    "\n",
    "st.subheader('Display Selected Team Schedule & Game Results')\n",
    "st.dataframe(teamstats)\n",
    "\n",
    "# https://discuss.streamlit.io/t/how-to-download-file-in-streamlit/1806\n",
    "def filedownload(df):\n",
    "    csv = df.to_csv(index=False)\n",
    "    b64 = base64.b64encode(csv.encode()).decode()  # strings <-> bytes conversions\n",
    "    href = f'<a href=\"data:file/csv;base64,{b64}\" download=\"playerstats.csv\">Download CSV File</a>'\n",
    "    return href\n",
    "\n",
    "st.markdown(filedownload(teamstats), unsafe_allow_html=True)"
   ]
  },
  {
   "cell_type": "code",
   "execution_count": null,
   "id": "93370eab-5413-44b5-8cf8-391305513491",
   "metadata": {},
   "outputs": [],
   "source": []
  },
  {
   "cell_type": "code",
   "execution_count": 7,
   "id": "24d1fc5c-2b61-42f2-af83-187a5c8d7ee0",
   "metadata": {},
   "outputs": [
    {
     "data": {
      "text/plain": [
       "DeltaGenerator(_root_container=0, _provided_cursor=None, _parent=None, _block_type=None, _form_data=None)"
      ]
     },
     "execution_count": 7,
     "metadata": {},
     "output_type": "execute_result"
    }
   ],
   "source": [
    "col1, col2 = st.columns(2)\n",
    "col1.header(\"teams\")\n",
    "\n",
    "col2.header(\"Prediction\")"
   ]
  },
  {
   "cell_type": "code",
   "execution_count": null,
   "id": "c066b085-687f-4131-bb06-0407e42b93a2",
   "metadata": {},
   "outputs": [],
   "source": [
    "button1 = st.button(\"Run Prediction\")\n",
    "if button1:\n",
    "    st.write(\"prediction are being calculated...\")\n",
    "    result = predict_model()\n",
    "    \n",
    "    \n"
   ]
  },
  {
   "cell_type": "code",
   "execution_count": null,
   "id": "6ecedf19-490e-4fb6-8c07-d12e88507e5e",
   "metadata": {},
   "outputs": [],
   "source": [
    "#test"
   ]
  },
  {
   "cell_type": "code",
   "execution_count": 10,
   "id": "2851732a-88fa-4483-9a8f-44307dd9c01c",
   "metadata": {},
   "outputs": [],
   "source": [
    "bills = st.image(\"chiefslogo.png\", width=40)"
   ]
  },
  {
   "cell_type": "code",
   "execution_count": null,
   "id": "d50ee8e1-1aed-4756-82c1-6b586af0c7d7",
   "metadata": {},
   "outputs": [],
   "source": []
  },
  {
   "cell_type": "code",
   "execution_count": null,
   "id": "06bcc79c-dc78-4882-9726-d66b033a2909",
   "metadata": {},
   "outputs": [],
   "source": []
  },
  {
   "cell_type": "code",
   "execution_count": null,
   "id": "86ba9b8d-4d12-4f1d-83b6-97c5ee2ad9ce",
   "metadata": {},
   "outputs": [],
   "source": []
  },
  {
   "cell_type": "code",
   "execution_count": null,
   "id": "5bf782c1-d958-4f5d-a120-b0ecd549406c",
   "metadata": {},
   "outputs": [],
   "source": []
  },
  {
   "cell_type": "code",
   "execution_count": null,
   "id": "a84ec66a-7163-4dce-af34-3d00ff895ff6",
   "metadata": {},
   "outputs": [],
   "source": []
  },
  {
   "cell_type": "code",
   "execution_count": null,
   "id": "d0c2a9ca-3af7-4aeb-9628-9b102dc44483",
   "metadata": {},
   "outputs": [],
   "source": [
    "# @st.cache(allow_output_mutation=True)\n",
    "def load_model(model_name):\n",
    "    LR = LR.load(model_name)\n",
    "    return (LR)\n",
    "LR = load_model('model_name')"
   ]
  },
  {
   "cell_type": "code",
   "execution_count": null,
   "id": "c4531d0c-ab7a-4506-bdfc-71aeeb9b55ca",
   "metadata": {},
   "outputs": [],
   "source": [
    "def load_model():\n",
    "    model = tf.keras.models.load_model(\"./resourses/model.hdf5\")\n",
    "    return model\n",
    "model = load_model()"
   ]
  },
  {
   "cell_type": "code",
   "execution_count": 6,
   "id": "951da08a-69e3-4b67-900a-9047adefb6fb",
   "metadata": {},
   "outputs": [
    {
     "data": {
      "text/plain": [
       "DeltaGenerator(_root_container=1, _provided_cursor=None, _parent=DeltaGenerator(_root_container=0, _provided_cursor=None, _parent=None, _block_type=None, _form_data=None), _block_type=None, _form_data=None)"
      ]
     },
     "execution_count": 6,
     "metadata": {},
     "output_type": "execute_result"
    }
   ],
   "source": [
    "st.sidebar.image(\"chiefslogo.png\", width=40)"
   ]
  },
  {
   "cell_type": "code",
   "execution_count": 11,
   "id": "91599c9f-5a88-44b5-bcf8-eaace476d510",
   "metadata": {},
   "outputs": [],
   "source": [
    "# saving the model to a file to be able to use it later in streamlit. save it in same folder as the .py file\n",
    "import pickle\n",
    "pickle.dump(lr, open(' ./model.sav', 'wb'))"
   ]
  },
  {
   "cell_type": "code",
   "execution_count": null,
   "id": "b6ecc6c7-d88a-43ea-ba5e-863c2e0f6451",
   "metadata": {},
   "outputs": [],
   "source": [
    "#load model in streamlit\n",
    "model = pickle.load(open('model.sav', 'rb'))"
   ]
  },
  {
   "cell_type": "code",
   "execution_count": null,
   "id": "dbc620d9-1427-4139-837e-714124d4c797",
   "metadata": {},
   "outputs": [],
   "source": [
    "# Fit the model on training set\n",
    "model = LogisticRegression()\n",
    "model.fit(X_train, Y_train)\n",
    "# save the model to disk\n",
    "filename = 'finalized_model.sav'\n",
    "pickle.dump(model, open(filename, 'wb'))\n",
    " \n",
    "# some time later...\n",
    " \n",
    "# load the model from disk\n",
    "loaded_model = pickle.load(open(filename, 'rb'))\n",
    "result = loaded_model.score(X_test, Y_test)\n",
    "print(result)"
   ]
  },
  {
   "cell_type": "code",
   "execution_count": null,
   "id": "74919cdc-7d0e-4309-82f1-9ee913107818",
   "metadata": {},
   "outputs": [],
   "source": []
  },
  {
   "cell_type": "code",
   "execution_count": null,
   "id": "9e865c37-daf5-4020-90e6-3df331f49c97",
   "metadata": {},
   "outputs": [],
   "source": []
  },
  {
   "cell_type": "code",
   "execution_count": null,
   "id": "1faf1d71-09e3-4b0b-b914-6bbc5652a792",
   "metadata": {},
   "outputs": [],
   "source": []
  },
  {
   "cell_type": "code",
   "execution_count": null,
   "id": "ec9bd60a-a545-45f6-ae82-b143661ec966",
   "metadata": {},
   "outputs": [],
   "source": []
  }
 ],
 "metadata": {
  "kernelspec": {
   "display_name": "Python 3 (ipykernel)",
   "language": "python",
   "name": "python3"
  },
  "language_info": {
   "codemirror_mode": {
    "name": "ipython",
    "version": 3
   },
   "file_extension": ".py",
   "mimetype": "text/x-python",
   "name": "python",
   "nbconvert_exporter": "python",
   "pygments_lexer": "ipython3",
   "version": "3.7.11"
  }
 },
 "nbformat": 4,
 "nbformat_minor": 5
}
