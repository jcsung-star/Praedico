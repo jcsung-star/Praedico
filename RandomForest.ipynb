{
 "cells": [
  {
   "cell_type": "code",
<<<<<<< Updated upstream
   "execution_count": 14,
=======
   "execution_count": 1,
>>>>>>> Stashed changes
   "metadata": {},
   "outputs": [],
   "source": [
    "import pandas as pd\n",
    "import numpy as np\n",
    "import os\n",
    "import pickle"
   ]
  },
  {
   "cell_type": "code",
<<<<<<< Updated upstream
   "execution_count": 15,
=======
   "execution_count": 2,
>>>>>>> Stashed changes
   "metadata": {},
   "outputs": [
    {
     "name": "stdout",
     "output_type": "stream",
     "text": [
      "(224, 21)\n"
     ]
    },
    {
     "data": {
      "text/html": [
       "<div>\n",
       "<style scoped>\n",
       "    .dataframe tbody tr th:only-of-type {\n",
       "        vertical-align: middle;\n",
       "    }\n",
       "\n",
       "    .dataframe tbody tr th {\n",
       "        vertical-align: top;\n",
       "    }\n",
       "\n",
       "    .dataframe thead th {\n",
       "        text-align: right;\n",
       "    }\n",
       "</style>\n",
       "<table border=\"1\" class=\"dataframe\">\n",
       "  <thead>\n",
       "    <tr style=\"text-align: right;\">\n",
       "      <th></th>\n",
       "      <th>Team</th>\n",
       "      <th>Week</th>\n",
       "      <th>Result</th>\n",
       "      <th>Rec</th>\n",
       "      <th>Home</th>\n",
       "      <th>Opp</th>\n",
       "      <th>TmScore</th>\n",
       "      <th>OppScore</th>\n",
       "      <th>O_1stD</th>\n",
       "      <th>O_Tot_yd</th>\n",
       "      <th>O_P_Yd</th>\n",
       "      <th>O_R_Yd</th>\n",
       "      <th>O_TO</th>\n",
       "      <th>D_1stD</th>\n",
       "      <th>D_Tot_Yd</th>\n",
       "      <th>D_P_Yd</th>\n",
       "      <th>D_R_Yd</th>\n",
       "      <th>D_TO</th>\n",
       "      <th>Offence</th>\n",
       "      <th>Defense</th>\n",
       "      <th>Sp.Tms</th>\n",
       "    </tr>\n",
       "  </thead>\n",
       "  <tbody>\n",
       "    <tr>\n",
       "      <th>0</th>\n",
       "      <td>Buffalo Bills</td>\n",
       "      <td>1</td>\n",
       "      <td>1</td>\n",
       "      <td>1-0</td>\n",
       "      <td>1</td>\n",
       "      <td>Chicago Bears</td>\n",
       "      <td>34.0</td>\n",
       "      <td>14.0</td>\n",
       "      <td>18.0</td>\n",
       "      <td>386.0</td>\n",
       "      <td>312.0</td>\n",
       "      <td>74.0</td>\n",
       "      <td>1.0</td>\n",
       "      <td>24.0</td>\n",
       "      <td>322.0</td>\n",
       "      <td>188.0</td>\n",
       "      <td>134.0</td>\n",
       "      <td>2.0</td>\n",
       "      <td>21.58</td>\n",
       "      <td>0.85</td>\n",
       "      <td>-0.52</td>\n",
       "    </tr>\n",
       "    <tr>\n",
       "      <th>1</th>\n",
       "      <td>Buffalo Bills</td>\n",
       "      <td>2</td>\n",
       "      <td>1</td>\n",
       "      <td>2-0</td>\n",
       "      <td>0</td>\n",
       "      <td>Indianapolis Colts</td>\n",
       "      <td>27.0</td>\n",
       "      <td>24.0</td>\n",
       "      <td>21.0</td>\n",
       "      <td>371.0</td>\n",
       "      <td>270.0</td>\n",
       "      <td>101.0</td>\n",
       "      <td>2.0</td>\n",
       "      <td>22.0</td>\n",
       "      <td>354.0</td>\n",
       "      <td>245.0</td>\n",
       "      <td>109.0</td>\n",
       "      <td>2.0</td>\n",
       "      <td>7.11</td>\n",
       "      <td>-1.29</td>\n",
       "      <td>-3.09</td>\n",
       "    </tr>\n",
       "    <tr>\n",
       "      <th>2</th>\n",
       "      <td>Buffalo Bills</td>\n",
       "      <td>3</td>\n",
       "      <td>1</td>\n",
       "      <td>3-0</td>\n",
       "      <td>1</td>\n",
       "      <td>Tampa Bay Buccaneers</td>\n",
       "      <td>34.0</td>\n",
       "      <td>24.0</td>\n",
       "      <td>22.0</td>\n",
       "      <td>407.0</td>\n",
       "      <td>331.0</td>\n",
       "      <td>76.0</td>\n",
       "      <td>1.0</td>\n",
       "      <td>27.0</td>\n",
       "      <td>446.0</td>\n",
       "      <td>411.0</td>\n",
       "      <td>35.0</td>\n",
       "      <td>1.0</td>\n",
       "      <td>20.56</td>\n",
       "      <td>-15.15</td>\n",
       "      <td>3.43</td>\n",
       "    </tr>\n",
       "    <tr>\n",
       "      <th>3</th>\n",
       "      <td>Buffalo Bills</td>\n",
       "      <td>4</td>\n",
       "      <td>0</td>\n",
       "      <td>3-1</td>\n",
       "      <td>1</td>\n",
       "      <td>Arizona Cardinals</td>\n",
       "      <td>20.0</td>\n",
       "      <td>37.0</td>\n",
       "      <td>24.0</td>\n",
       "      <td>401.0</td>\n",
       "      <td>280.0</td>\n",
       "      <td>121.0</td>\n",
       "      <td>2.0</td>\n",
       "      <td>27.0</td>\n",
       "      <td>465.0</td>\n",
       "      <td>249.0</td>\n",
       "      <td>216.0</td>\n",
       "      <td>1.0</td>\n",
       "      <td>8.94</td>\n",
       "      <td>-21.72</td>\n",
       "      <td>-2.64</td>\n",
       "    </tr>\n",
       "    <tr>\n",
       "      <th>4</th>\n",
       "      <td>Buffalo Bills</td>\n",
       "      <td>5</td>\n",
       "      <td>1</td>\n",
       "      <td>4-1</td>\n",
       "      <td>0</td>\n",
       "      <td>Seattle Seahawks</td>\n",
       "      <td>26.0</td>\n",
       "      <td>17.0</td>\n",
       "      <td>24.0</td>\n",
       "      <td>476.0</td>\n",
       "      <td>358.0</td>\n",
       "      <td>118.0</td>\n",
       "      <td>1.0</td>\n",
       "      <td>22.0</td>\n",
       "      <td>354.0</td>\n",
       "      <td>262.0</td>\n",
       "      <td>92.0</td>\n",
       "      <td>2.0</td>\n",
       "      <td>13.76</td>\n",
       "      <td>-6.71</td>\n",
       "      <td>-0.05</td>\n",
       "    </tr>\n",
       "  </tbody>\n",
       "</table>\n",
       "</div>"
      ],
      "text/plain": [
       "            Team  Week Result  Rec  Home                   Opp  TmScore  \\\n",
       "0  Buffalo Bills     1      1  1-0     1         Chicago Bears     34.0   \n",
       "1  Buffalo Bills     2      1  2-0     0    Indianapolis Colts     27.0   \n",
       "2  Buffalo Bills     3      1  3-0     1  Tampa Bay Buccaneers     34.0   \n",
       "3  Buffalo Bills     4      0  3-1     1     Arizona Cardinals     20.0   \n",
       "4  Buffalo Bills     5      1  4-1     0      Seattle Seahawks     26.0   \n",
       "\n",
       "   OppScore  O_1stD  O_Tot_yd  O_P_Yd  O_R_Yd  O_TO  D_1stD  D_Tot_Yd  D_P_Yd  \\\n",
       "0      14.0    18.0     386.0   312.0    74.0   1.0    24.0     322.0   188.0   \n",
       "1      24.0    21.0     371.0   270.0   101.0   2.0    22.0     354.0   245.0   \n",
       "2      24.0    22.0     407.0   331.0    76.0   1.0    27.0     446.0   411.0   \n",
       "3      37.0    24.0     401.0   280.0   121.0   2.0    27.0     465.0   249.0   \n",
       "4      17.0    24.0     476.0   358.0   118.0   1.0    22.0     354.0   262.0   \n",
       "\n",
       "   D_R_Yd  D_TO  Offence  Defense  Sp.Tms  \n",
       "0   134.0   2.0    21.58     0.85   -0.52  \n",
       "1   109.0   2.0     7.11    -1.29   -3.09  \n",
       "2    35.0   1.0    20.56   -15.15    3.43  \n",
       "3   216.0   1.0     8.94   -21.72   -2.64  \n",
       "4    92.0   2.0    13.76    -6.71   -0.05  "
      ]
     },
     "execution_count": 15,
     "metadata": {},
     "output_type": "execute_result"
    }
   ],
   "source": [
    "path = (\"./resources/Team_df.csv\")\n",
    "com_data = pd.read_csv(path)\n",
    "print(com_data.shape)\n",
    "com_data.head()"
   ]
  },
  {
   "cell_type": "code",
<<<<<<< Updated upstream
   "execution_count": 16,
=======
   "execution_count": 3,
>>>>>>> Stashed changes
   "metadata": {},
   "outputs": [
    {
     "name": "stderr",
     "output_type": "stream",
     "text": [
      "/opt/anaconda3/envs/dev/lib/python3.7/site-packages/pandas/core/frame.py:2963: SettingWithCopyWarning: \n",
      "A value is trying to be set on a copy of a slice from a DataFrame.\n",
      "Try using .loc[row_indexer,col_indexer] = value instead\n",
      "\n",
      "See the caveats in the documentation: https://pandas.pydata.org/pandas-docs/stable/user_guide/indexing.html#returning-a-view-versus-a-copy\n",
      "  self[k1] = value[k2]\n"
     ]
    },
    {
     "data": {
      "text/html": [
       "<div>\n",
       "<style scoped>\n",
       "    .dataframe tbody tr th:only-of-type {\n",
       "        vertical-align: middle;\n",
       "    }\n",
       "\n",
       "    .dataframe tbody tr th {\n",
       "        vertical-align: top;\n",
       "    }\n",
       "\n",
       "    .dataframe thead th {\n",
       "        text-align: right;\n",
       "    }\n",
       "</style>\n",
       "<table border=\"1\" class=\"dataframe\">\n",
       "  <thead>\n",
       "    <tr style=\"text-align: right;\">\n",
       "      <th></th>\n",
       "      <th>TmScore</th>\n",
       "      <th>O_1stD</th>\n",
       "      <th>O_Tot_yd</th>\n",
       "      <th>O_P_Yd</th>\n",
       "      <th>O_R_Yd</th>\n",
       "      <th>O_TO</th>\n",
       "      <th>D_1stD</th>\n",
       "      <th>D_Tot_Yd</th>\n",
       "      <th>D_P_Yd</th>\n",
       "      <th>D_R_Yd</th>\n",
       "      <th>D_TO</th>\n",
       "      <th>Home</th>\n",
       "      <th>Team_Arizona Cardinals</th>\n",
       "      <th>Team_Buffalo Bills</th>\n",
       "      <th>Team_Cincinnati Bengals</th>\n",
       "      <th>Team_Dallas Cowboys</th>\n",
       "      <th>Team_Green Bay Packers</th>\n",
       "      <th>Team_Kansas City Chiefs</th>\n",
       "      <th>Team_Las Vegas Raiders</th>\n",
       "      <th>Team_Los Angeles Rams</th>\n",
       "      <th>Team_New England Patriots</th>\n",
       "      <th>Team_Philadelphia Eagles</th>\n",
       "      <th>Team_Pittsburgh Steelers</th>\n",
       "      <th>Team_San Francisco 49ers</th>\n",
       "      <th>Team_Tampa Bay Buccaneers</th>\n",
       "      <th>Team_Tennessee Titans</th>\n",
       "      <th>Opp_Arizona Cardinals</th>\n",
       "      <th>Opp_Atlanta Falcons</th>\n",
       "      <th>Opp_Baltimore Ravens</th>\n",
       "      <th>Opp_Buffalo Bills</th>\n",
       "      <th>Opp_Carolina Panthers</th>\n",
       "      <th>Opp_Chicago Bears</th>\n",
       "      <th>Opp_Cincinnati Bengals</th>\n",
       "      <th>Opp_Cleveland Browns</th>\n",
       "      <th>Opp_Dallas Cowboys</th>\n",
       "      <th>Opp_Denver Broncos</th>\n",
       "      <th>Opp_Detroit Lions</th>\n",
       "      <th>Opp_Green Bay Packers</th>\n",
       "      <th>Opp_Houston Texans</th>\n",
       "      <th>Opp_Indianapolis Colts</th>\n",
       "      <th>Opp_Jacksonville Jaguars</th>\n",
       "      <th>Opp_Kansas City Chiefs</th>\n",
       "      <th>Opp_Las Vegas Raiders</th>\n",
       "      <th>Opp_Los Angeles Chargers</th>\n",
       "      <th>Opp_Los Angeles Rams</th>\n",
       "      <th>Opp_Miami Dolphins</th>\n",
       "      <th>Opp_Minnesota Vikings</th>\n",
       "      <th>Opp_New England Patriots</th>\n",
       "      <th>Opp_New Orleans Saints</th>\n",
       "      <th>Opp_New York Giants</th>\n",
       "      <th>Opp_New York Jets</th>\n",
       "      <th>Opp_Philadelphia Eagles</th>\n",
       "      <th>Opp_Pittsburgh Steelers</th>\n",
       "      <th>Opp_San Francisco 49ers</th>\n",
       "      <th>Opp_Seattle Seahawks</th>\n",
       "      <th>Opp_Tampa Bay Buccaneers</th>\n",
       "      <th>Opp_Tennessee Titans</th>\n",
       "      <th>Opp_Washington Football Team</th>\n",
       "    </tr>\n",
       "  </thead>\n",
       "  <tbody>\n",
       "    <tr>\n",
       "      <th>0</th>\n",
       "      <td>34.0</td>\n",
       "      <td>288.0</td>\n",
       "      <td>6176.0</td>\n",
       "      <td>4992.0</td>\n",
       "      <td>1184.0</td>\n",
       "      <td>16.0</td>\n",
       "      <td>384.0</td>\n",
       "      <td>5152.0</td>\n",
       "      <td>3008.0</td>\n",
       "      <td>2144.0</td>\n",
       "      <td>32.0</td>\n",
       "      <td>1</td>\n",
       "      <td>0</td>\n",
       "      <td>1</td>\n",
       "      <td>0</td>\n",
       "      <td>0</td>\n",
       "      <td>0</td>\n",
       "      <td>0</td>\n",
       "      <td>0</td>\n",
       "      <td>0</td>\n",
       "      <td>0</td>\n",
       "      <td>0</td>\n",
       "      <td>0</td>\n",
       "      <td>0</td>\n",
       "      <td>0</td>\n",
       "      <td>0</td>\n",
       "      <td>0</td>\n",
       "      <td>0</td>\n",
       "      <td>0</td>\n",
       "      <td>0</td>\n",
       "      <td>0</td>\n",
       "      <td>1</td>\n",
       "      <td>0</td>\n",
       "      <td>0</td>\n",
       "      <td>0</td>\n",
       "      <td>0</td>\n",
       "      <td>0</td>\n",
       "      <td>0</td>\n",
       "      <td>0</td>\n",
       "      <td>0</td>\n",
       "      <td>0</td>\n",
       "      <td>0</td>\n",
       "      <td>0</td>\n",
       "      <td>0</td>\n",
       "      <td>0</td>\n",
       "      <td>0</td>\n",
       "      <td>0</td>\n",
       "      <td>0</td>\n",
       "      <td>0</td>\n",
       "      <td>0</td>\n",
       "      <td>0</td>\n",
       "      <td>0</td>\n",
       "      <td>0</td>\n",
       "      <td>0</td>\n",
       "      <td>0</td>\n",
       "      <td>0</td>\n",
       "      <td>0</td>\n",
       "      <td>0</td>\n",
       "    </tr>\n",
       "    <tr>\n",
       "      <th>1</th>\n",
       "      <td>27.0</td>\n",
       "      <td>336.0</td>\n",
       "      <td>5936.0</td>\n",
       "      <td>4320.0</td>\n",
       "      <td>1616.0</td>\n",
       "      <td>32.0</td>\n",
       "      <td>352.0</td>\n",
       "      <td>5664.0</td>\n",
       "      <td>3920.0</td>\n",
       "      <td>1744.0</td>\n",
       "      <td>32.0</td>\n",
       "      <td>0</td>\n",
       "      <td>0</td>\n",
       "      <td>1</td>\n",
       "      <td>0</td>\n",
       "      <td>0</td>\n",
       "      <td>0</td>\n",
       "      <td>0</td>\n",
       "      <td>0</td>\n",
       "      <td>0</td>\n",
       "      <td>0</td>\n",
       "      <td>0</td>\n",
       "      <td>0</td>\n",
       "      <td>0</td>\n",
       "      <td>0</td>\n",
       "      <td>0</td>\n",
       "      <td>0</td>\n",
       "      <td>0</td>\n",
       "      <td>0</td>\n",
       "      <td>0</td>\n",
       "      <td>0</td>\n",
       "      <td>0</td>\n",
       "      <td>0</td>\n",
       "      <td>0</td>\n",
       "      <td>0</td>\n",
       "      <td>0</td>\n",
       "      <td>0</td>\n",
       "      <td>0</td>\n",
       "      <td>0</td>\n",
       "      <td>1</td>\n",
       "      <td>0</td>\n",
       "      <td>0</td>\n",
       "      <td>0</td>\n",
       "      <td>0</td>\n",
       "      <td>0</td>\n",
       "      <td>0</td>\n",
       "      <td>0</td>\n",
       "      <td>0</td>\n",
       "      <td>0</td>\n",
       "      <td>0</td>\n",
       "      <td>0</td>\n",
       "      <td>0</td>\n",
       "      <td>0</td>\n",
       "      <td>0</td>\n",
       "      <td>0</td>\n",
       "      <td>0</td>\n",
       "      <td>0</td>\n",
       "      <td>0</td>\n",
       "    </tr>\n",
       "    <tr>\n",
       "      <th>2</th>\n",
       "      <td>34.0</td>\n",
       "      <td>352.0</td>\n",
       "      <td>6512.0</td>\n",
       "      <td>5296.0</td>\n",
       "      <td>1216.0</td>\n",
       "      <td>16.0</td>\n",
       "      <td>432.0</td>\n",
       "      <td>7136.0</td>\n",
       "      <td>6576.0</td>\n",
       "      <td>560.0</td>\n",
       "      <td>16.0</td>\n",
       "      <td>1</td>\n",
       "      <td>0</td>\n",
       "      <td>1</td>\n",
       "      <td>0</td>\n",
       "      <td>0</td>\n",
       "      <td>0</td>\n",
       "      <td>0</td>\n",
       "      <td>0</td>\n",
       "      <td>0</td>\n",
       "      <td>0</td>\n",
       "      <td>0</td>\n",
       "      <td>0</td>\n",
       "      <td>0</td>\n",
       "      <td>0</td>\n",
       "      <td>0</td>\n",
       "      <td>0</td>\n",
       "      <td>0</td>\n",
       "      <td>0</td>\n",
       "      <td>0</td>\n",
       "      <td>0</td>\n",
       "      <td>0</td>\n",
       "      <td>0</td>\n",
       "      <td>0</td>\n",
       "      <td>0</td>\n",
       "      <td>0</td>\n",
       "      <td>0</td>\n",
       "      <td>0</td>\n",
       "      <td>0</td>\n",
       "      <td>0</td>\n",
       "      <td>0</td>\n",
       "      <td>0</td>\n",
       "      <td>0</td>\n",
       "      <td>0</td>\n",
       "      <td>0</td>\n",
       "      <td>0</td>\n",
       "      <td>0</td>\n",
       "      <td>0</td>\n",
       "      <td>0</td>\n",
       "      <td>0</td>\n",
       "      <td>0</td>\n",
       "      <td>0</td>\n",
       "      <td>0</td>\n",
       "      <td>0</td>\n",
       "      <td>0</td>\n",
       "      <td>1</td>\n",
       "      <td>0</td>\n",
       "      <td>0</td>\n",
       "    </tr>\n",
       "    <tr>\n",
       "      <th>3</th>\n",
       "      <td>20.0</td>\n",
       "      <td>384.0</td>\n",
       "      <td>6416.0</td>\n",
       "      <td>4480.0</td>\n",
       "      <td>1936.0</td>\n",
       "      <td>32.0</td>\n",
       "      <td>432.0</td>\n",
       "      <td>7440.0</td>\n",
       "      <td>3984.0</td>\n",
       "      <td>3456.0</td>\n",
       "      <td>16.0</td>\n",
       "      <td>1</td>\n",
       "      <td>0</td>\n",
       "      <td>1</td>\n",
       "      <td>0</td>\n",
       "      <td>0</td>\n",
       "      <td>0</td>\n",
       "      <td>0</td>\n",
       "      <td>0</td>\n",
       "      <td>0</td>\n",
       "      <td>0</td>\n",
       "      <td>0</td>\n",
       "      <td>0</td>\n",
       "      <td>0</td>\n",
       "      <td>0</td>\n",
       "      <td>0</td>\n",
       "      <td>1</td>\n",
       "      <td>0</td>\n",
       "      <td>0</td>\n",
       "      <td>0</td>\n",
       "      <td>0</td>\n",
       "      <td>0</td>\n",
       "      <td>0</td>\n",
       "      <td>0</td>\n",
       "      <td>0</td>\n",
       "      <td>0</td>\n",
       "      <td>0</td>\n",
       "      <td>0</td>\n",
       "      <td>0</td>\n",
       "      <td>0</td>\n",
       "      <td>0</td>\n",
       "      <td>0</td>\n",
       "      <td>0</td>\n",
       "      <td>0</td>\n",
       "      <td>0</td>\n",
       "      <td>0</td>\n",
       "      <td>0</td>\n",
       "      <td>0</td>\n",
       "      <td>0</td>\n",
       "      <td>0</td>\n",
       "      <td>0</td>\n",
       "      <td>0</td>\n",
       "      <td>0</td>\n",
       "      <td>0</td>\n",
       "      <td>0</td>\n",
       "      <td>0</td>\n",
       "      <td>0</td>\n",
       "      <td>0</td>\n",
       "    </tr>\n",
       "    <tr>\n",
       "      <th>4</th>\n",
       "      <td>26.0</td>\n",
       "      <td>384.0</td>\n",
       "      <td>7616.0</td>\n",
       "      <td>5728.0</td>\n",
       "      <td>1888.0</td>\n",
       "      <td>16.0</td>\n",
       "      <td>352.0</td>\n",
       "      <td>5664.0</td>\n",
       "      <td>4192.0</td>\n",
       "      <td>1472.0</td>\n",
       "      <td>32.0</td>\n",
       "      <td>0</td>\n",
       "      <td>0</td>\n",
       "      <td>1</td>\n",
       "      <td>0</td>\n",
       "      <td>0</td>\n",
       "      <td>0</td>\n",
       "      <td>0</td>\n",
       "      <td>0</td>\n",
       "      <td>0</td>\n",
       "      <td>0</td>\n",
       "      <td>0</td>\n",
       "      <td>0</td>\n",
       "      <td>0</td>\n",
       "      <td>0</td>\n",
       "      <td>0</td>\n",
       "      <td>0</td>\n",
       "      <td>0</td>\n",
       "      <td>0</td>\n",
       "      <td>0</td>\n",
       "      <td>0</td>\n",
       "      <td>0</td>\n",
       "      <td>0</td>\n",
       "      <td>0</td>\n",
       "      <td>0</td>\n",
       "      <td>0</td>\n",
       "      <td>0</td>\n",
       "      <td>0</td>\n",
       "      <td>0</td>\n",
       "      <td>0</td>\n",
       "      <td>0</td>\n",
       "      <td>0</td>\n",
       "      <td>0</td>\n",
       "      <td>0</td>\n",
       "      <td>0</td>\n",
       "      <td>0</td>\n",
       "      <td>0</td>\n",
       "      <td>0</td>\n",
       "      <td>0</td>\n",
       "      <td>0</td>\n",
       "      <td>0</td>\n",
       "      <td>0</td>\n",
       "      <td>0</td>\n",
       "      <td>0</td>\n",
       "      <td>1</td>\n",
       "      <td>0</td>\n",
       "      <td>0</td>\n",
       "      <td>0</td>\n",
       "    </tr>\n",
       "  </tbody>\n",
       "</table>\n",
       "</div>"
      ],
      "text/plain": [
       "   TmScore  O_1stD  O_Tot_yd  O_P_Yd  O_R_Yd  O_TO  D_1stD  D_Tot_Yd  D_P_Yd  \\\n",
       "0     34.0   288.0    6176.0  4992.0  1184.0  16.0   384.0    5152.0  3008.0   \n",
       "1     27.0   336.0    5936.0  4320.0  1616.0  32.0   352.0    5664.0  3920.0   \n",
       "2     34.0   352.0    6512.0  5296.0  1216.0  16.0   432.0    7136.0  6576.0   \n",
       "3     20.0   384.0    6416.0  4480.0  1936.0  32.0   432.0    7440.0  3984.0   \n",
       "4     26.0   384.0    7616.0  5728.0  1888.0  16.0   352.0    5664.0  4192.0   \n",
       "\n",
       "   D_R_Yd  D_TO  Home  Team_Arizona Cardinals  Team_Buffalo Bills  \\\n",
       "0  2144.0  32.0     1                       0                   1   \n",
       "1  1744.0  32.0     0                       0                   1   \n",
       "2   560.0  16.0     1                       0                   1   \n",
       "3  3456.0  16.0     1                       0                   1   \n",
       "4  1472.0  32.0     0                       0                   1   \n",
       "\n",
       "   Team_Cincinnati Bengals  Team_Dallas Cowboys  Team_Green Bay Packers  \\\n",
       "0                        0                    0                       0   \n",
       "1                        0                    0                       0   \n",
       "2                        0                    0                       0   \n",
       "3                        0                    0                       0   \n",
       "4                        0                    0                       0   \n",
       "\n",
       "   Team_Kansas City Chiefs  Team_Las Vegas Raiders  Team_Los Angeles Rams  \\\n",
       "0                        0                       0                      0   \n",
       "1                        0                       0                      0   \n",
       "2                        0                       0                      0   \n",
       "3                        0                       0                      0   \n",
       "4                        0                       0                      0   \n",
       "\n",
       "   Team_New England Patriots  Team_Philadelphia Eagles  \\\n",
       "0                          0                         0   \n",
       "1                          0                         0   \n",
       "2                          0                         0   \n",
       "3                          0                         0   \n",
       "4                          0                         0   \n",
       "\n",
       "   Team_Pittsburgh Steelers  Team_San Francisco 49ers  \\\n",
       "0                         0                         0   \n",
       "1                         0                         0   \n",
       "2                         0                         0   \n",
       "3                         0                         0   \n",
       "4                         0                         0   \n",
       "\n",
       "   Team_Tampa Bay Buccaneers  Team_Tennessee Titans  Opp_Arizona Cardinals  \\\n",
       "0                          0                      0                      0   \n",
       "1                          0                      0                      0   \n",
       "2                          0                      0                      0   \n",
       "3                          0                      0                      1   \n",
       "4                          0                      0                      0   \n",
       "\n",
       "   Opp_Atlanta Falcons  Opp_Baltimore Ravens  Opp_Buffalo Bills  \\\n",
       "0                    0                     0                  0   \n",
       "1                    0                     0                  0   \n",
       "2                    0                     0                  0   \n",
       "3                    0                     0                  0   \n",
       "4                    0                     0                  0   \n",
       "\n",
       "   Opp_Carolina Panthers  Opp_Chicago Bears  Opp_Cincinnati Bengals  \\\n",
       "0                      0                  1                       0   \n",
       "1                      0                  0                       0   \n",
       "2                      0                  0                       0   \n",
       "3                      0                  0                       0   \n",
       "4                      0                  0                       0   \n",
       "\n",
       "   Opp_Cleveland Browns  Opp_Dallas Cowboys  Opp_Denver Broncos  \\\n",
       "0                     0                   0                   0   \n",
       "1                     0                   0                   0   \n",
       "2                     0                   0                   0   \n",
       "3                     0                   0                   0   \n",
       "4                     0                   0                   0   \n",
       "\n",
       "   Opp_Detroit Lions  Opp_Green Bay Packers  Opp_Houston Texans  \\\n",
       "0                  0                      0                   0   \n",
       "1                  0                      0                   0   \n",
       "2                  0                      0                   0   \n",
       "3                  0                      0                   0   \n",
       "4                  0                      0                   0   \n",
       "\n",
       "   Opp_Indianapolis Colts  Opp_Jacksonville Jaguars  Opp_Kansas City Chiefs  \\\n",
       "0                       0                         0                       0   \n",
       "1                       1                         0                       0   \n",
       "2                       0                         0                       0   \n",
       "3                       0                         0                       0   \n",
       "4                       0                         0                       0   \n",
       "\n",
       "   Opp_Las Vegas Raiders  Opp_Los Angeles Chargers  Opp_Los Angeles Rams  \\\n",
       "0                      0                         0                     0   \n",
       "1                      0                         0                     0   \n",
       "2                      0                         0                     0   \n",
       "3                      0                         0                     0   \n",
       "4                      0                         0                     0   \n",
       "\n",
       "   Opp_Miami Dolphins  Opp_Minnesota Vikings  Opp_New England Patriots  \\\n",
       "0                   0                      0                         0   \n",
       "1                   0                      0                         0   \n",
       "2                   0                      0                         0   \n",
       "3                   0                      0                         0   \n",
       "4                   0                      0                         0   \n",
       "\n",
       "   Opp_New Orleans Saints  Opp_New York Giants  Opp_New York Jets  \\\n",
       "0                       0                    0                  0   \n",
       "1                       0                    0                  0   \n",
       "2                       0                    0                  0   \n",
       "3                       0                    0                  0   \n",
       "4                       0                    0                  0   \n",
       "\n",
       "   Opp_Philadelphia Eagles  Opp_Pittsburgh Steelers  Opp_San Francisco 49ers  \\\n",
       "0                        0                        0                        0   \n",
       "1                        0                        0                        0   \n",
       "2                        0                        0                        0   \n",
       "3                        0                        0                        0   \n",
       "4                        0                        0                        0   \n",
       "\n",
       "   Opp_Seattle Seahawks  Opp_Tampa Bay Buccaneers  Opp_Tennessee Titans  \\\n",
       "0                     0                         0                     0   \n",
       "1                     0                         0                     0   \n",
       "2                     0                         1                     0   \n",
       "3                     0                         0                     0   \n",
       "4                     1                         0                     0   \n",
       "\n",
       "   Opp_Washington Football Team  \n",
       "0                             0  \n",
       "1                             0  \n",
       "2                             0  \n",
       "3                             0  \n",
       "4                             0  "
      ]
     },
     "execution_count": 16,
     "metadata": {},
     "output_type": "execute_result"
    }
   ],
   "source": [
    "# get index of every team's data\n",
    "team_index = com_data['Team']\n",
    "\n",
    "# Remove Opponent, Score, Result\n",
    "rf_model_data = com_data[['Team', 'Opp', 'TmScore', 'O_1stD', 'O_Tot_yd', 'O_P_Yd', 'O_R_Yd', 'O_TO',\n",
    "                         'D_1stD', 'D_Tot_Yd', 'D_P_Yd', 'D_R_Yd', 'D_TO', 'Home']]\n",
    "#  , 'ADA_Pred_Mean', 'LOG_Prediction'\n",
    "\n",
    "# change to season stats\n",
    "season_stats = ['O_1stD', 'O_Tot_yd', 'O_P_Yd', 'O_R_Yd', 'O_TO',\n",
    "                         'D_1stD', 'D_Tot_Yd', 'D_P_Yd', 'D_R_Yd', 'D_TO']\n",
    "\n",
    "rf_model_data[season_stats] = rf_model_data[season_stats] * 16\n",
    "\n",
    "#get indexs of every teams\n",
    "team_index = com_data['Team']\n",
    "\n",
    "rf_model_data = pd.get_dummies(rf_model_data)\n",
    "rf_model_data.head()"
   ]
  },
  {
   "cell_type": "markdown",
   "metadata": {},
   "source": [
    "## MODELING"
   ]
  },
  {
   "cell_type": "code",
<<<<<<< Updated upstream
   "execution_count": 17,
=======
   "execution_count": 4,
>>>>>>> Stashed changes
   "metadata": {},
   "outputs": [
    {
     "name": "stderr",
     "output_type": "stream",
     "text": [
      "/opt/anaconda3/envs/dev/lib/python3.7/site-packages/ipykernel_launcher.py:13: DataConversionWarning: A column-vector y was passed when a 1d array was expected. Please change the shape of y to (n_samples,), for example using ravel().\n",
      "  del sys.path[0]\n"
     ]
    },
    {
     "name": "stdout",
     "output_type": "stream",
     "text": [
      "4.543826086956521\n"
     ]
    }
   ],
   "source": [
    "# Random forest\n",
    "from sklearn.model_selection import train_test_split\n",
    "from sklearn.ensemble import RandomForestRegressor\n",
    "from sklearn.metrics import r2_score, mean_squared_error, mean_absolute_error\n",
    "\n",
    "# Data processing\n",
    "X = rf_model_data.drop('TmScore', axis=1).values\n",
    "y = rf_model_data['TmScore'].values.reshape(-1, 1)\n",
    "X_train, X_test, y_train, y_test = train_test_split(X, y, test_size= 0.10)\n",
    "\n",
    "RF_model = RandomForestRegressor(n_estimators= 2000, random_state= 20)\n",
    "\n",
    "RF_model.fit(X_train, y_train)\n",
    "\n",
    "y_pred = RF_model.predict(X_test)\n",
    "\n",
    "print(mean_absolute_error(y_test, y_pred))"
   ]
  },
  {
   "cell_type": "code",
<<<<<<< Updated upstream
   "execution_count": 18,
=======
   "execution_count": 5,
>>>>>>> Stashed changes
   "metadata": {},
   "outputs": [],
   "source": [
    "Pkl_RF_model = 'RF_model.sav'\n",
    "pickle.dump(RF_model, open(Pkl_RF_model, 'wb'))"
   ]
  },
  {
   "cell_type": "code",
<<<<<<< Updated upstream
   "execution_count": 19,
=======
   "execution_count": 6,
>>>>>>> Stashed changes
   "metadata": {},
   "outputs": [],
   "source": [
    "pd.options.display.max_rows = None\n",
    "\n",
    "importance = RF_model.feature_importances_\n",
    "\n",
    "feature_names = rf_model_data.drop('TmScore', axis=1).columns\n",
    "\n",
    "d = {'Var_Name': feature_names, 'Imp': importance}\n",
    "df = pd.DataFrame(data=d)\n",
    "df = df.sort_values(by= ['Imp'], ascending = False).reset_index(drop=True)\n",
    "df.head(15)\n",
    "\n",
    "# function that return the score of two teams playing\n",
    "\n",
    "pd.options.display.max_columns = None\n",
    "\n",
    "# Create playoff test dataset from season averages\n",
    "\n",
    "def Score_Predictor(home_team, away_team):\n",
    "    team1 = home_team\n",
    "    team2 = away_team\n",
    "    \n",
    "    team1_data = rf_model_data[com_data['Team'] == team1].drop('TmScore', axis=1).reset_index(drop=True)\n",
    "    team2_data = rf_model_data[com_data['Team'] == team2].drop('TmScore', axis=1).reset_index(drop=True)\n",
    "    \n",
    "    week_slice = slice(1,16)\n",
    "    \n",
    "    #1 Remove if no team names\n",
    "    team1_test = pd.DataFrame(team1_data[week_slice].mean(axis=0)).T #select week to use as average\n",
    "    team1_test\n",
    "    opp_columns = team1_test.filter(like='Opp').columns\n",
    "    \n",
    "    team1_test[opp_columns] = 0\n",
    "    team1_test['Opp_' + team2] = 1\n",
    "    team1_test['Home'] = 1\n",
    "    \n",
    "    #2\n",
    "    team2_test = pd.DataFrame(team2_data[week_slice].mean(axis=0)).T #select week to use as average\n",
    "    opp_columns = team2_test.filter(like='Opp').columns\n",
    "    \n",
    "    team2_test[opp_columns] = 0\n",
    "    team2_test['Opp_' + team1] = 1\n",
    "    team2_test['Home'] = 0 #remove home field advantage\n",
    "    \n",
    "    # head to head matchup\n",
    "    team1_test[['D_1stD','D_Tot_Yd','D_P_Yd','D_R_Yd','D_TO']] = team2_test[['O_1stD','O_Tot_yd','O_P_Yd','O_R_Yd','O_TO']]\n",
    "    team2_test[['D_1stD','D_Tot_Yd','D_P_Yd','D_R_Yd','D_TO']] = team1_test[['O_1stD','O_Tot_yd','O_P_Yd','O_R_Yd','O_TO']]\n",
    "    \n",
    "    X_Playoff_test = pd.concat([team1_test, team2_test])\n",
    "    X_Playoff_test.fillna(0, inplace = True) # added to address the NANs that was causing the error\n",
    "    \n",
    "    scores = RF_model.predict(X_Playoff_test)\n",
    "    print(team1, \"will score\", round(scores[0], 1))\n",
    "    print(team2, \"will score\", round(scores[1], 1))\n",
    "    \n",
    "    if scores[0] > scores[1]:\n",
    "        winner = team1\n",
    "    else:\n",
    "        winner = team2\n",
    "        \n",
    "    print(winner, \"are the WINNERS!!!\")\n",
    "    \n",
    "    return scores, winner\n",
    "    "
   ]
  },
  {
   "cell_type": "markdown",
   "metadata": {},
   "source": [
    "# Potentially add for loop to insert the winner to next round (The names have to be in full names in score predicor) and add the seeding"
   ]
  },
  {
   "cell_type": "markdown",
   "metadata": {},
   "source": [
    "### NFC Playoff Picture\n",
    "\n",
    "1. Green Bay Packers (13-4), champions, NFC North. The Packers clinched the No. 1 seed, the lone bye and the Lambeau home-field advantage in the NFC playoffs with their win over the Vikings in Week 17, matching their win total of the previous two seasons with Aaron Rodgers under Matt LaFleur with one more game left in the new schedule. They lost in Week 18 while resting Rodgers and other regulars in the second half against the Lions.\n",
    "\n",
    "2. Tampa Bay Buccaneers (13-4), champions, NFC South. The Buccaneers beat the Panthers and moved up to No. 2 because the Rams, to whom they lost in Week 3, lost to the 49ers. They finished behind the Packers because of a lesser confference record and ahead of the Cowboys, up a full game and a head-to-head tiebreaker from Week 1.\n",
    "\n",
    "3. Dallas Cowboys (12-5), champions, NFC East. The Cowboys rebounded to rout the resting Eagles in Week 18 after they lost to the Cardinals in a failed comeback in Week 17. They were able to jump the losing Rams because of winning the conference-record tiebreaker over them.\n",
    "\n",
    "4. Los Angeles Rams (12-5), champions, NFC West. The Rams failed to beat the 49ers in Week 18 but still took back the division crown with the Cardinals losing another West matchup to the Seahawks at home. They cost themselves a No. 2 seed and now need to play a third game against the Cardinals.\n",
    "\n",
    "5. Arizona Cardinals (11-6), second place, NFC West. The Cardinals could have won the division with the Rams losing but they also lost to the Seahawks. They will settle for the top wild-card spot and a rematch with the Rams in the wild-card playoffs.\n",
    "\n",
    "6. San Francisco 49ers (10-7), third place, NFC West. The 49ers locked down the second wild card by beating the Rams in overtime in Week 18. They held off the winning Saints and got up a full game on the losing Eagles, whom they also beat in Week 2.\n",
    "\n",
    "7. Philadelphia Eagles (9-8), second place, NFC East. The Eagles rested players against the Cowboys in Week 18 after they had already clinched a wild-card spot in Week 17. They stayed ahead of the winning Saints because of beating that team in Week 11."
   ]
  },
  {
   "cell_type": "markdown",
   "metadata": {},
   "source": [
    "### AFC Playoff Picture\n",
    "\n",
    "1. Tennessee Titans (12-5), champions, AFC South. The Titans held on against the Texans in Week 18 to stay ahead of the Chiefs and clinch the No. 1 seed. They have home-field advantage in the AFC playoffs and the lone bye. The conference road to Super Bowl 56 will go through Nashviille.\n",
    "\n",
    "2. Kansas City Chiefs (12-5), champions, AFC West. The Chiefs will settle for the No. 2 seed after beating the Broncos in Week 18 because they lost head-to-head to the Titans in Week 7. They did win Super Bowl 54 coming from this position behind the Ravens.\n",
    "\n",
    "3. Buffalo Bills (11-6), champions, AFC East. The Bills won the division and kept this seed with a home win over the Jets. They finish a game behind the co-AFC leaders and a game ahead of the Bengals after being the AFC's No. 2 in last year's playoffs.\n",
    "\n",
    "4. Cincinnati Bengals (10-7), champions, AFC North. The Bengals rested key players because of injuries and other reasons and lost without Joe Burrow and Joe Mixon at the Browns in Week 18. They were set to stay here behind the East champions.\n",
    "\n",
    "5. Las Vegas Raiders (10-7), second place, AFC West. The Raiders moved into playoff position with the Colts, whom they beat in Week 17, being upset by the Jaguars in Week 18. They earned a playoff berth with the wild overtime win over the Chargers on Sunday night.\n",
    "\n",
    "6. New England Patriots (10-7), second place, AFC East. The Patriots lost to the Dolphins in Week 18, but they had already lost the East title when the Bills beat the Jets. They dropped to No. 6 with the Raiders beating the Chargers on Sunday night because of losing the tiebreaker.\n",
    "\n",
    "7. Pittsburgh Steelers (9-7-1), second place, AFC North. The Steelers got into the playoffs to extend the career of Ben Roethlisberger by beating the Ravens in Week 18 while the Jaguars beat the Colts and the Raiders beat the Chargers.\n",
    "\n"
   ]
  },
  {
   "cell_type": "markdown",
   "metadata": {},
   "source": [
    "### NFC Playoff Wildcard Round "
   ]
  },
  {
   "cell_type": "code",
<<<<<<< Updated upstream
   "execution_count": 8,
=======
   "execution_count": 7,
>>>>>>> Stashed changes
   "metadata": {},
   "outputs": [
    {
     "name": "stdout",
     "output_type": "stream",
     "text": [
      "Tampa Bay Buccaneers will score 32.0\n",
      "Philadelphia Eagles will score 26.0\n",
      "Tampa Bay Buccaneers are the WINNERS!!!\n"
     ]
    }
   ],
   "source": [
    "scores, winner = Score_Predictor('Tampa Bay Buccaneers','Philadelphia Eagles')"
   ]
  },
  {
   "cell_type": "code",
<<<<<<< Updated upstream
   "execution_count": 9,
=======
   "execution_count": 7,
>>>>>>> Stashed changes
   "metadata": {},
   "outputs": [
    {
     "name": "stdout",
     "output_type": "stream",
     "text": [
      "Dallas Cowboys will score 29.7\n",
      "San Francisco 49ers will score 29.6\n",
      "Dallas Cowboys are the WINNERS!!!\n"
     ]
    }
   ],
   "source": [
    "scores, winner = Score_Predictor('Dallas Cowboys', 'San Francisco 49ers')"
   ]
  },
  {
   "cell_type": "code",
<<<<<<< Updated upstream
   "execution_count": 10,
=======
   "execution_count": 8,
>>>>>>> Stashed changes
   "metadata": {},
   "outputs": [
    {
     "name": "stdout",
     "output_type": "stream",
     "text": [
      "Los Angeles Rams will score 21.8\n",
      "Arizona Cardinals will score 28.6\n",
      "Arizona Cardinals are the WINNERS!!!\n"
     ]
    }
   ],
   "source": [
    "scores, winner = Score_Predictor('Los Angeles Rams', 'Arizona Cardinals')"
   ]
  },
  {
   "cell_type": "markdown",
   "metadata": {},
   "source": [
    "### AFC Playoff Wildcard Round "
   ]
  },
  {
   "cell_type": "code",
<<<<<<< Updated upstream
   "execution_count": 11,
=======
   "execution_count": 9,
>>>>>>> Stashed changes
   "metadata": {},
   "outputs": [
    {
     "name": "stdout",
     "output_type": "stream",
     "text": [
      "Kansas City Chiefs will score 28.8\n",
      "Pittsburgh Steelers will score 13.5\n",
      "Kansas City Chiefs are the WINNERS!!!\n"
     ]
    }
   ],
   "source": [
    "scores, winner = Score_Predictor('Kansas City Chiefs', 'Pittsburgh Steelers')"
   ]
  },
  {
   "cell_type": "code",
<<<<<<< Updated upstream
   "execution_count": 12,
=======
   "execution_count": 10,
>>>>>>> Stashed changes
   "metadata": {},
   "outputs": [
    {
     "name": "stdout",
     "output_type": "stream",
     "text": [
      "Buffalo Bills will score 17.4\n",
      "New England Patriots will score 31.8\n",
      "New England Patriots are the WINNERS!!!\n"
     ]
    }
   ],
   "source": [
    "scores, winner = Score_Predictor('Buffalo Bills', 'New England Patriots')"
   ]
  },
  {
   "cell_type": "code",
<<<<<<< Updated upstream
   "execution_count": 13,
=======
   "execution_count": 11,
>>>>>>> Stashed changes
   "metadata": {},
   "outputs": [
    {
     "name": "stdout",
     "output_type": "stream",
     "text": [
      "Cincinnati Bengals will score 26.1\n",
      "Las Vegas Raiders will score 27.0\n",
      "Las Vegas Raiders are the WINNERS!!!\n"
     ]
    }
   ],
   "source": [
    "scores, winner = Score_Predictor('Cincinnati Bengals', 'Las Vegas Raiders')"
   ]
  },
  {
   "cell_type": "markdown",
   "metadata": {},
   "source": [
    "### NFC Playoff Divisional Round"
   ]
  },
  {
   "cell_type": "code",
<<<<<<< Updated upstream
   "execution_count": 14,
=======
   "execution_count": 12,
>>>>>>> Stashed changes
   "metadata": {},
   "outputs": [
    {
     "name": "stdout",
     "output_type": "stream",
     "text": [
      "Green Bay Packers will score 24.0\n",
      "Arizona Cardinals will score 23.4\n",
      "Green Bay Packers are the WINNERS!!!\n"
     ]
    }
   ],
   "source": [
    "scores, winner = Score_Predictor('Green Bay Packers', 'Arizona Cardinals')"
   ]
  },
  {
   "cell_type": "code",
<<<<<<< Updated upstream
   "execution_count": 15,
=======
   "execution_count": 13,
>>>>>>> Stashed changes
   "metadata": {},
   "outputs": [
    {
     "name": "stdout",
     "output_type": "stream",
     "text": [
      "Tampa Bay Buccaneers will score 28.6\n",
      "Dallas Cowboys will score 22.1\n",
      "Tampa Bay Buccaneers are the WINNERS!!!\n"
     ]
    }
   ],
   "source": [
    "scores, winner = Score_Predictor('Tampa Bay Buccaneers', 'Dallas Cowboys')"
   ]
  },
  {
   "cell_type": "markdown",
   "metadata": {},
   "source": [
    "### AFC Playoff Divisional Round"
   ]
  },
  {
   "cell_type": "code",
<<<<<<< Updated upstream
   "execution_count": 16,
=======
   "execution_count": 14,
>>>>>>> Stashed changes
   "metadata": {},
   "outputs": [
    {
     "name": "stdout",
     "output_type": "stream",
     "text": [
      "Tennessee Titans will score 16.3\n",
      "New England Patriots will score 34.3\n",
      "New England Patriots are the WINNERS!!!\n"
     ]
    }
   ],
   "source": [
    "scores, winner = Score_Predictor('Tennessee Titans', 'New England Patriots')"
   ]
  },
  {
   "cell_type": "code",
<<<<<<< Updated upstream
   "execution_count": 17,
=======
   "execution_count": 15,
>>>>>>> Stashed changes
   "metadata": {},
   "outputs": [
    {
     "name": "stdout",
     "output_type": "stream",
     "text": [
      "Kansas City Chiefs will score 28.1\n",
      "Las Vegas Raiders will score 17.1\n",
      "Kansas City Chiefs are the WINNERS!!!\n"
     ]
    }
   ],
   "source": [
    "scores, winner = Score_Predictor('Kansas City Chiefs', 'Las Vegas Raiders')"
   ]
  },
  {
   "cell_type": "markdown",
   "metadata": {},
   "source": [
    "### NFC Conference Championship"
   ]
  },
  {
   "cell_type": "code",
<<<<<<< Updated upstream
   "execution_count": 18,
=======
   "execution_count": 16,
>>>>>>> Stashed changes
   "metadata": {},
   "outputs": [
    {
     "name": "stdout",
     "output_type": "stream",
     "text": [
      "Tampa Bay Buccaneers will score 24.9\n",
      "Arizona Cardinals will score 21.5\n",
      "Tampa Bay Buccaneers are the WINNERS!!!\n"
     ]
    }
   ],
   "source": [
    "scores, winner = Score_Predictor('Tampa Bay Buccaneers', 'Arizona Cardinals')"
   ]
  },
  {
   "cell_type": "markdown",
   "metadata": {},
   "source": [
    "### AFC Conference Championship"
   ]
  },
  {
   "cell_type": "code",
<<<<<<< Updated upstream
   "execution_count": 19,
=======
   "execution_count": 17,
>>>>>>> Stashed changes
   "metadata": {},
   "outputs": [
    {
     "name": "stdout",
     "output_type": "stream",
     "text": [
      "Tennessee Titans will score 17.5\n",
      "Kansas City Chiefs will score 30.9\n",
      "Kansas City Chiefs are the WINNERS!!!\n"
     ]
    }
   ],
   "source": [
    "scores, winner = Score_Predictor('Tennessee Titans', 'Kansas City Chiefs')"
   ]
  },
  {
   "cell_type": "markdown",
   "metadata": {},
   "source": [
    "### Suber Bowl"
   ]
  },
  {
   "cell_type": "code",
<<<<<<< Updated upstream
   "execution_count": 20,
=======
   "execution_count": 18,
>>>>>>> Stashed changes
   "metadata": {},
   "outputs": [
    {
     "name": "stdout",
     "output_type": "stream",
     "text": [
      "Kansas City Chiefs will score 21.9\n",
      "Arizona Cardinals will score 19.6\n",
      "Kansas City Chiefs are the WINNERS!!!\n"
     ]
    }
   ],
   "source": [
    "scores, winner = Score_Predictor('Kansas City Chiefs', 'Arizona Cardinals')"
   ]
  }
 ],
 "metadata": {
  "kernelspec": {
   "display_name": "Python 3",
   "language": "python",
   "name": "python3"
  },
  "language_info": {
   "codemirror_mode": {
    "name": "ipython",
    "version": 3
   },
   "file_extension": ".py",
   "mimetype": "text/x-python",
   "name": "python",
   "nbconvert_exporter": "python",
   "pygments_lexer": "ipython3",
   "version": "3.7.7"
  }
 },
 "nbformat": 4,
 "nbformat_minor": 5
}
