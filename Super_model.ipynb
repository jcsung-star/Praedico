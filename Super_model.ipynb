{
 "cells": [
  {
   "cell_type": "code",
   "execution_count": 1,
   "metadata": {},
   "outputs": [],
   "source": [
    "import pandas as pd\n",
    "import numpy as np\n",
    "import os\n",
    "\n",
    "from sklearn.model_selection import train_test_split\n",
    "from sklearn.metrics import r2_score, mean_squared_error, mean_absolute_error\n",
    "from sklearn.linear_model import LogisticRegression\n",
    "from sklearn.neural_network import MLPRegressor\n",
    "from sklearn.ensemble import GradientBoostingRegressor\n",
    "from sklearn.ensemble import RandomForestRegressor"
   ]
  },
  {
   "cell_type": "code",
   "execution_count": 2,
   "metadata": {},
   "outputs": [
    {
     "name": "stdout",
     "output_type": "stream",
     "text": [
      "(224, 23)\n"
     ]
    },
    {
     "data": {
      "text/html": [
       "<div>\n",
       "<style scoped>\n",
       "    .dataframe tbody tr th:only-of-type {\n",
       "        vertical-align: middle;\n",
       "    }\n",
       "\n",
       "    .dataframe tbody tr th {\n",
       "        vertical-align: top;\n",
       "    }\n",
       "\n",
       "    .dataframe thead th {\n",
       "        text-align: right;\n",
       "    }\n",
       "</style>\n",
       "<table border=\"1\" class=\"dataframe\">\n",
       "  <thead>\n",
       "    <tr style=\"text-align: right;\">\n",
       "      <th></th>\n",
       "      <th>Team</th>\n",
       "      <th>Week</th>\n",
       "      <th>Result</th>\n",
       "      <th>Rec</th>\n",
       "      <th>Home</th>\n",
       "      <th>Opp</th>\n",
       "      <th>TmScore</th>\n",
       "      <th>OppScore</th>\n",
       "      <th>O_1stD</th>\n",
       "      <th>O_Tot_yd</th>\n",
       "      <th>...</th>\n",
       "      <th>D_1stD</th>\n",
       "      <th>D_Tot_Yd</th>\n",
       "      <th>D_P_Yd</th>\n",
       "      <th>D_R_Yd</th>\n",
       "      <th>D_TO</th>\n",
       "      <th>Offence</th>\n",
       "      <th>Defense</th>\n",
       "      <th>Sp.Tms</th>\n",
       "      <th>Prediction_LR</th>\n",
       "      <th>Prediction_ADA</th>\n",
       "    </tr>\n",
       "  </thead>\n",
       "  <tbody>\n",
       "    <tr>\n",
       "      <th>0</th>\n",
       "      <td>Buffalo Bills</td>\n",
       "      <td>1</td>\n",
       "      <td>1</td>\n",
       "      <td>1-0</td>\n",
       "      <td>1</td>\n",
       "      <td>Chicago Bears</td>\n",
       "      <td>34.0</td>\n",
       "      <td>14.0</td>\n",
       "      <td>18.0</td>\n",
       "      <td>386.0</td>\n",
       "      <td>...</td>\n",
       "      <td>24.0</td>\n",
       "      <td>322.0</td>\n",
       "      <td>188.0</td>\n",
       "      <td>134.0</td>\n",
       "      <td>2.0</td>\n",
       "      <td>21.58</td>\n",
       "      <td>0.85</td>\n",
       "      <td>-0.52</td>\n",
       "      <td>0.418034</td>\n",
       "      <td>0.025844</td>\n",
       "    </tr>\n",
       "    <tr>\n",
       "      <th>1</th>\n",
       "      <td>Buffalo Bills</td>\n",
       "      <td>2</td>\n",
       "      <td>1</td>\n",
       "      <td>2-0</td>\n",
       "      <td>0</td>\n",
       "      <td>Indianapolis Colts</td>\n",
       "      <td>27.0</td>\n",
       "      <td>24.0</td>\n",
       "      <td>21.0</td>\n",
       "      <td>371.0</td>\n",
       "      <td>...</td>\n",
       "      <td>22.0</td>\n",
       "      <td>354.0</td>\n",
       "      <td>245.0</td>\n",
       "      <td>109.0</td>\n",
       "      <td>2.0</td>\n",
       "      <td>7.11</td>\n",
       "      <td>-1.29</td>\n",
       "      <td>-3.09</td>\n",
       "      <td>0.418034</td>\n",
       "      <td>0.025844</td>\n",
       "    </tr>\n",
       "    <tr>\n",
       "      <th>2</th>\n",
       "      <td>Buffalo Bills</td>\n",
       "      <td>3</td>\n",
       "      <td>1</td>\n",
       "      <td>3-0</td>\n",
       "      <td>1</td>\n",
       "      <td>Tampa Bay Buccaneers</td>\n",
       "      <td>34.0</td>\n",
       "      <td>24.0</td>\n",
       "      <td>22.0</td>\n",
       "      <td>407.0</td>\n",
       "      <td>...</td>\n",
       "      <td>27.0</td>\n",
       "      <td>446.0</td>\n",
       "      <td>411.0</td>\n",
       "      <td>35.0</td>\n",
       "      <td>1.0</td>\n",
       "      <td>20.56</td>\n",
       "      <td>-15.15</td>\n",
       "      <td>3.43</td>\n",
       "      <td>0.418034</td>\n",
       "      <td>0.025844</td>\n",
       "    </tr>\n",
       "    <tr>\n",
       "      <th>3</th>\n",
       "      <td>Buffalo Bills</td>\n",
       "      <td>4</td>\n",
       "      <td>0</td>\n",
       "      <td>3-1</td>\n",
       "      <td>1</td>\n",
       "      <td>Arizona Cardinals</td>\n",
       "      <td>20.0</td>\n",
       "      <td>37.0</td>\n",
       "      <td>24.0</td>\n",
       "      <td>401.0</td>\n",
       "      <td>...</td>\n",
       "      <td>27.0</td>\n",
       "      <td>465.0</td>\n",
       "      <td>249.0</td>\n",
       "      <td>216.0</td>\n",
       "      <td>1.0</td>\n",
       "      <td>8.94</td>\n",
       "      <td>-21.72</td>\n",
       "      <td>-2.64</td>\n",
       "      <td>0.418034</td>\n",
       "      <td>0.025844</td>\n",
       "    </tr>\n",
       "    <tr>\n",
       "      <th>4</th>\n",
       "      <td>Buffalo Bills</td>\n",
       "      <td>5</td>\n",
       "      <td>1</td>\n",
       "      <td>4-1</td>\n",
       "      <td>0</td>\n",
       "      <td>Seattle Seahawks</td>\n",
       "      <td>26.0</td>\n",
       "      <td>17.0</td>\n",
       "      <td>24.0</td>\n",
       "      <td>476.0</td>\n",
       "      <td>...</td>\n",
       "      <td>22.0</td>\n",
       "      <td>354.0</td>\n",
       "      <td>262.0</td>\n",
       "      <td>92.0</td>\n",
       "      <td>2.0</td>\n",
       "      <td>13.76</td>\n",
       "      <td>-6.71</td>\n",
       "      <td>-0.05</td>\n",
       "      <td>0.418034</td>\n",
       "      <td>0.025844</td>\n",
       "    </tr>\n",
       "  </tbody>\n",
       "</table>\n",
       "<p>5 rows × 23 columns</p>\n",
       "</div>"
      ],
      "text/plain": [
       "            Team  Week Result  Rec  Home                   Opp  TmScore  \\\n",
       "0  Buffalo Bills     1      1  1-0     1         Chicago Bears     34.0   \n",
       "1  Buffalo Bills     2      1  2-0     0    Indianapolis Colts     27.0   \n",
       "2  Buffalo Bills     3      1  3-0     1  Tampa Bay Buccaneers     34.0   \n",
       "3  Buffalo Bills     4      0  3-1     1     Arizona Cardinals     20.0   \n",
       "4  Buffalo Bills     5      1  4-1     0      Seattle Seahawks     26.0   \n",
       "\n",
       "   OppScore  O_1stD  O_Tot_yd  ...  D_1stD  D_Tot_Yd  D_P_Yd  D_R_Yd  D_TO  \\\n",
       "0      14.0    18.0     386.0  ...    24.0     322.0   188.0   134.0   2.0   \n",
       "1      24.0    21.0     371.0  ...    22.0     354.0   245.0   109.0   2.0   \n",
       "2      24.0    22.0     407.0  ...    27.0     446.0   411.0    35.0   1.0   \n",
       "3      37.0    24.0     401.0  ...    27.0     465.0   249.0   216.0   1.0   \n",
       "4      17.0    24.0     476.0  ...    22.0     354.0   262.0    92.0   2.0   \n",
       "\n",
       "   Offence  Defense  Sp.Tms  Prediction_LR  Prediction_ADA  \n",
       "0    21.58     0.85   -0.52       0.418034        0.025844  \n",
       "1     7.11    -1.29   -3.09       0.418034        0.025844  \n",
       "2    20.56   -15.15    3.43       0.418034        0.025844  \n",
       "3     8.94   -21.72   -2.64       0.418034        0.025844  \n",
       "4    13.76    -6.71   -0.05       0.418034        0.025844  \n",
       "\n",
       "[5 rows x 23 columns]"
      ]
     },
     "execution_count": 2,
     "metadata": {},
     "output_type": "execute_result"
    }
   ],
   "source": [
    "path = (\"./resources/Team_df.csv\")\n",
    "com_data = pd.read_csv(path)\n",
    "print(com_data.shape)\n",
    "com_data.head()"
   ]
  },
  {
   "cell_type": "code",
   "execution_count": 3,
   "metadata": {},
   "outputs": [
    {
     "name": "stderr",
     "output_type": "stream",
     "text": [
      "/opt/anaconda3/envs/dev/lib/python3.7/site-packages/pandas/core/frame.py:2963: SettingWithCopyWarning: \n",
      "A value is trying to be set on a copy of a slice from a DataFrame.\n",
      "Try using .loc[row_indexer,col_indexer] = value instead\n",
      "\n",
      "See the caveats in the documentation: https://pandas.pydata.org/pandas-docs/stable/user_guide/indexing.html#returning-a-view-versus-a-copy\n",
      "  self[k1] = value[k2]\n",
      "/opt/anaconda3/envs/dev/lib/python3.7/site-packages/ipykernel_launcher.py:22: SettingWithCopyWarning: \n",
      "A value is trying to be set on a copy of a slice from a DataFrame.\n",
      "Try using .loc[row_indexer,col_indexer] = value instead\n",
      "\n",
      "See the caveats in the documentation: https://pandas.pydata.org/pandas-docs/stable/user_guide/indexing.html#returning-a-view-versus-a-copy\n",
      "/opt/anaconda3/envs/dev/lib/python3.7/site-packages/pandas/core/indexing.py:966: SettingWithCopyWarning: \n",
      "A value is trying to be set on a copy of a slice from a DataFrame.\n",
      "Try using .loc[row_indexer,col_indexer] = value instead\n",
      "\n",
      "See the caveats in the documentation: https://pandas.pydata.org/pandas-docs/stable/user_guide/indexing.html#returning-a-view-versus-a-copy\n",
      "  self.obj[item] = s\n"
     ]
    },
    {
     "data": {
      "text/html": [
       "<div>\n",
       "<style scoped>\n",
       "    .dataframe tbody tr th:only-of-type {\n",
       "        vertical-align: middle;\n",
       "    }\n",
       "\n",
       "    .dataframe tbody tr th {\n",
       "        vertical-align: top;\n",
       "    }\n",
       "\n",
       "    .dataframe thead th {\n",
       "        text-align: right;\n",
       "    }\n",
       "</style>\n",
       "<table border=\"1\" class=\"dataframe\">\n",
       "  <thead>\n",
       "    <tr style=\"text-align: right;\">\n",
       "      <th></th>\n",
       "      <th>TmScore</th>\n",
       "      <th>O_1stD</th>\n",
       "      <th>O_Tot_yd</th>\n",
       "      <th>O_P_Yd</th>\n",
       "      <th>O_R_Yd</th>\n",
       "      <th>O_TO</th>\n",
       "      <th>D_1stD</th>\n",
       "      <th>D_Tot_Yd</th>\n",
       "      <th>D_P_Yd</th>\n",
       "      <th>D_R_Yd</th>\n",
       "      <th>...</th>\n",
       "      <th>Opp_New Orleans Saints</th>\n",
       "      <th>Opp_New York Giants</th>\n",
       "      <th>Opp_New York Jets</th>\n",
       "      <th>Opp_Philadelphia Eagles</th>\n",
       "      <th>Opp_Pittsburgh Steelers</th>\n",
       "      <th>Opp_San Francisco 49ers</th>\n",
       "      <th>Opp_Seattle Seahawks</th>\n",
       "      <th>Opp_Tampa Bay Buccaneers</th>\n",
       "      <th>Opp_Tennessee Titans</th>\n",
       "      <th>Opp_Washington Football Team</th>\n",
       "    </tr>\n",
       "  </thead>\n",
       "  <tbody>\n",
       "    <tr>\n",
       "      <th>0</th>\n",
       "      <td>34.0</td>\n",
       "      <td>-0.762952</td>\n",
       "      <td>0.208713</td>\n",
       "      <td>0.739647</td>\n",
       "      <td>-0.863009</td>\n",
       "      <td>-0.655336</td>\n",
       "      <td>0.856943</td>\n",
       "      <td>-0.162220</td>\n",
       "      <td>-0.528247</td>\n",
       "      <td>0.560785</td>\n",
       "      <td>...</td>\n",
       "      <td>0</td>\n",
       "      <td>0</td>\n",
       "      <td>0</td>\n",
       "      <td>0</td>\n",
       "      <td>0</td>\n",
       "      <td>0</td>\n",
       "      <td>0</td>\n",
       "      <td>0</td>\n",
       "      <td>0</td>\n",
       "      <td>0</td>\n",
       "    </tr>\n",
       "    <tr>\n",
       "      <th>1</th>\n",
       "      <td>27.0</td>\n",
       "      <td>-0.108993</td>\n",
       "      <td>0.010164</td>\n",
       "      <td>0.195539</td>\n",
       "      <td>-0.299168</td>\n",
       "      <td>0.465238</td>\n",
       "      <td>0.436910</td>\n",
       "      <td>0.236406</td>\n",
       "      <td>0.231372</td>\n",
       "      <td>0.034050</td>\n",
       "      <td>...</td>\n",
       "      <td>0</td>\n",
       "      <td>0</td>\n",
       "      <td>0</td>\n",
       "      <td>0</td>\n",
       "      <td>0</td>\n",
       "      <td>0</td>\n",
       "      <td>0</td>\n",
       "      <td>0</td>\n",
       "      <td>0</td>\n",
       "      <td>0</td>\n",
       "    </tr>\n",
       "    <tr>\n",
       "      <th>2</th>\n",
       "      <td>34.0</td>\n",
       "      <td>0.108993</td>\n",
       "      <td>0.486681</td>\n",
       "      <td>0.985791</td>\n",
       "      <td>-0.821243</td>\n",
       "      <td>-0.655336</td>\n",
       "      <td>1.486994</td>\n",
       "      <td>1.382454</td>\n",
       "      <td>2.443594</td>\n",
       "      <td>-1.525087</td>\n",
       "      <td>...</td>\n",
       "      <td>0</td>\n",
       "      <td>0</td>\n",
       "      <td>0</td>\n",
       "      <td>0</td>\n",
       "      <td>0</td>\n",
       "      <td>0</td>\n",
       "      <td>0</td>\n",
       "      <td>1</td>\n",
       "      <td>0</td>\n",
       "      <td>0</td>\n",
       "    </tr>\n",
       "    <tr>\n",
       "      <th>3</th>\n",
       "      <td>20.0</td>\n",
       "      <td>0.544966</td>\n",
       "      <td>0.407262</td>\n",
       "      <td>0.325088</td>\n",
       "      <td>0.118492</td>\n",
       "      <td>0.465238</td>\n",
       "      <td>1.486994</td>\n",
       "      <td>1.619138</td>\n",
       "      <td>0.284678</td>\n",
       "      <td>2.288477</td>\n",
       "      <td>...</td>\n",
       "      <td>0</td>\n",
       "      <td>0</td>\n",
       "      <td>0</td>\n",
       "      <td>0</td>\n",
       "      <td>0</td>\n",
       "      <td>0</td>\n",
       "      <td>0</td>\n",
       "      <td>0</td>\n",
       "      <td>0</td>\n",
       "      <td>0</td>\n",
       "    </tr>\n",
       "    <tr>\n",
       "      <th>4</th>\n",
       "      <td>26.0</td>\n",
       "      <td>0.544966</td>\n",
       "      <td>1.400007</td>\n",
       "      <td>1.335575</td>\n",
       "      <td>0.055843</td>\n",
       "      <td>-0.655336</td>\n",
       "      <td>0.436910</td>\n",
       "      <td>0.236406</td>\n",
       "      <td>0.457925</td>\n",
       "      <td>-0.324130</td>\n",
       "      <td>...</td>\n",
       "      <td>0</td>\n",
       "      <td>0</td>\n",
       "      <td>0</td>\n",
       "      <td>0</td>\n",
       "      <td>0</td>\n",
       "      <td>0</td>\n",
       "      <td>1</td>\n",
       "      <td>0</td>\n",
       "      <td>0</td>\n",
       "      <td>0</td>\n",
       "    </tr>\n",
       "  </tbody>\n",
       "</table>\n",
       "<p>5 rows × 58 columns</p>\n",
       "</div>"
      ],
      "text/plain": [
       "   TmScore    O_1stD  O_Tot_yd    O_P_Yd    O_R_Yd      O_TO    D_1stD  \\\n",
       "0     34.0 -0.762952  0.208713  0.739647 -0.863009 -0.655336  0.856943   \n",
       "1     27.0 -0.108993  0.010164  0.195539 -0.299168  0.465238  0.436910   \n",
       "2     34.0  0.108993  0.486681  0.985791 -0.821243 -0.655336  1.486994   \n",
       "3     20.0  0.544966  0.407262  0.325088  0.118492  0.465238  1.486994   \n",
       "4     26.0  0.544966  1.400007  1.335575  0.055843 -0.655336  0.436910   \n",
       "\n",
       "   D_Tot_Yd    D_P_Yd    D_R_Yd  ...  Opp_New Orleans Saints  \\\n",
       "0 -0.162220 -0.528247  0.560785  ...                       0   \n",
       "1  0.236406  0.231372  0.034050  ...                       0   \n",
       "2  1.382454  2.443594 -1.525087  ...                       0   \n",
       "3  1.619138  0.284678  2.288477  ...                       0   \n",
       "4  0.236406  0.457925 -0.324130  ...                       0   \n",
       "\n",
       "   Opp_New York Giants  Opp_New York Jets  Opp_Philadelphia Eagles  \\\n",
       "0                    0                  0                        0   \n",
       "1                    0                  0                        0   \n",
       "2                    0                  0                        0   \n",
       "3                    0                  0                        0   \n",
       "4                    0                  0                        0   \n",
       "\n",
       "   Opp_Pittsburgh Steelers  Opp_San Francisco 49ers  Opp_Seattle Seahawks  \\\n",
       "0                        0                        0                     0   \n",
       "1                        0                        0                     0   \n",
       "2                        0                        0                     0   \n",
       "3                        0                        0                     0   \n",
       "4                        0                        0                     1   \n",
       "\n",
       "   Opp_Tampa Bay Buccaneers  Opp_Tennessee Titans  \\\n",
       "0                         0                     0   \n",
       "1                         0                     0   \n",
       "2                         1                     0   \n",
       "3                         0                     0   \n",
       "4                         0                     0   \n",
       "\n",
       "   Opp_Washington Football Team  \n",
       "0                             0  \n",
       "1                             0  \n",
       "2                             0  \n",
       "3                             0  \n",
       "4                             0  \n",
       "\n",
       "[5 rows x 58 columns]"
      ]
     },
     "execution_count": 3,
     "metadata": {},
     "output_type": "execute_result"
    }
   ],
   "source": [
    "# get index of every team's data\n",
    "team_index = com_data['Team']\n",
    "\n",
    "# Remove Opponent, Score, Result\n",
    "super_model_data = com_data[['Team', 'Opp', 'TmScore', 'O_1stD', 'O_Tot_yd', 'O_P_Yd', 'O_R_Yd', 'O_TO',\n",
    "                         'D_1stD', 'D_Tot_Yd', 'D_P_Yd', 'D_R_Yd', 'D_TO', 'Home']]\n",
    "#  , 'ADA_Pred_Mean', 'LOG_Prediction'\n",
    "\n",
    "# change to season stats\n",
    "season_stats = ['O_1stD', 'O_Tot_yd', 'O_P_Yd', 'O_R_Yd', 'O_TO',\n",
    "                         'D_1stD', 'D_Tot_Yd', 'D_P_Yd', 'D_R_Yd', 'D_TO']\n",
    "\n",
    "super_model_data[season_stats] = super_model_data[season_stats] * 16\n",
    "\n",
    "# standardise the data\n",
    "from sklearn import preprocessing\n",
    "\n",
    "sd_data = ['O_1stD', 'O_Tot_yd', 'O_P_Yd', 'O_R_Yd', 'O_TO',\n",
    "                         'D_1stD', 'D_Tot_Yd', 'D_P_Yd', 'D_R_Yd', 'D_TO']\n",
    "#  , 'ADA_Pred_Mean', 'LOG_Prediction'\n",
    "\n",
    "super_model_data[sd_data] = preprocessing.scale(super_model_data[sd_data])\n",
    "\n",
    "#get indexs of every teams\n",
    "team_index = com_data['Team']\n",
    "\n",
    "super_model_data = pd.get_dummies(super_model_data)\n",
    "super_model_data.head()"
   ]
  },
  {
   "cell_type": "code",
   "execution_count": 4,
   "metadata": {},
   "outputs": [
    {
     "name": "stdout",
     "output_type": "stream",
     "text": [
      "<class 'pandas.core.frame.DataFrame'>\n",
      "RangeIndex: 224 entries, 0 to 223\n",
      "Data columns (total 58 columns):\n",
      " #   Column                        Non-Null Count  Dtype  \n",
      "---  ------                        --------------  -----  \n",
      " 0   TmScore                       224 non-null    float64\n",
      " 1   O_1stD                        224 non-null    float64\n",
      " 2   O_Tot_yd                      224 non-null    float64\n",
      " 3   O_P_Yd                        224 non-null    float64\n",
      " 4   O_R_Yd                        224 non-null    float64\n",
      " 5   O_TO                          224 non-null    float64\n",
      " 6   D_1stD                        224 non-null    float64\n",
      " 7   D_Tot_Yd                      224 non-null    float64\n",
      " 8   D_P_Yd                        224 non-null    float64\n",
      " 9   D_R_Yd                        224 non-null    float64\n",
      " 10  D_TO                          224 non-null    float64\n",
      " 11  Home                          224 non-null    int64  \n",
      " 12  Team_Arizona Cardinals        224 non-null    uint8  \n",
      " 13  Team_Buffalo Bills            224 non-null    uint8  \n",
      " 14  Team_Cincinnati Bengals       224 non-null    uint8  \n",
      " 15  Team_Dallas Cowboys           224 non-null    uint8  \n",
      " 16  Team_Green Bay Packers        224 non-null    uint8  \n",
      " 17  Team_Kansas City Chiefs       224 non-null    uint8  \n",
      " 18  Team_Las Vegas Raiders        224 non-null    uint8  \n",
      " 19  Team_Los Angeles Rams         224 non-null    uint8  \n",
      " 20  Team_New England Patriots     224 non-null    uint8  \n",
      " 21  Team_Philadelphia Eagles      224 non-null    uint8  \n",
      " 22  Team_Pittsburgh Steelers      224 non-null    uint8  \n",
      " 23  Team_San Francisco 49ers      224 non-null    uint8  \n",
      " 24  Team_Tampa Bay Buccaneers     224 non-null    uint8  \n",
      " 25  Team_Tennessee Titans         224 non-null    uint8  \n",
      " 26  Opp_Arizona Cardinals         224 non-null    uint8  \n",
      " 27  Opp_Atlanta Falcons           224 non-null    uint8  \n",
      " 28  Opp_Baltimore Ravens          224 non-null    uint8  \n",
      " 29  Opp_Buffalo Bills             224 non-null    uint8  \n",
      " 30  Opp_Carolina Panthers         224 non-null    uint8  \n",
      " 31  Opp_Chicago Bears             224 non-null    uint8  \n",
      " 32  Opp_Cincinnati Bengals        224 non-null    uint8  \n",
      " 33  Opp_Cleveland Browns          224 non-null    uint8  \n",
      " 34  Opp_Dallas Cowboys            224 non-null    uint8  \n",
      " 35  Opp_Denver Broncos            224 non-null    uint8  \n",
      " 36  Opp_Detroit Lions             224 non-null    uint8  \n",
      " 37  Opp_Green Bay Packers         224 non-null    uint8  \n",
      " 38  Opp_Houston Texans            224 non-null    uint8  \n",
      " 39  Opp_Indianapolis Colts        224 non-null    uint8  \n",
      " 40  Opp_Jacksonville Jaguars      224 non-null    uint8  \n",
      " 41  Opp_Kansas City Chiefs        224 non-null    uint8  \n",
      " 42  Opp_Las Vegas Raiders         224 non-null    uint8  \n",
      " 43  Opp_Los Angeles Chargers      224 non-null    uint8  \n",
      " 44  Opp_Los Angeles Rams          224 non-null    uint8  \n",
      " 45  Opp_Miami Dolphins            224 non-null    uint8  \n",
      " 46  Opp_Minnesota Vikings         224 non-null    uint8  \n",
      " 47  Opp_New England Patriots      224 non-null    uint8  \n",
      " 48  Opp_New Orleans Saints        224 non-null    uint8  \n",
      " 49  Opp_New York Giants           224 non-null    uint8  \n",
      " 50  Opp_New York Jets             224 non-null    uint8  \n",
      " 51  Opp_Philadelphia Eagles       224 non-null    uint8  \n",
      " 52  Opp_Pittsburgh Steelers       224 non-null    uint8  \n",
      " 53  Opp_San Francisco 49ers       224 non-null    uint8  \n",
      " 54  Opp_Seattle Seahawks          224 non-null    uint8  \n",
      " 55  Opp_Tampa Bay Buccaneers      224 non-null    uint8  \n",
      " 56  Opp_Tennessee Titans          224 non-null    uint8  \n",
      " 57  Opp_Washington Football Team  224 non-null    uint8  \n",
      "dtypes: float64(11), int64(1), uint8(46)\n",
      "memory usage: 31.2 KB\n"
     ]
    }
   ],
   "source": [
    "super_model_data.info()"
   ]
  },
  {
   "cell_type": "code",
   "execution_count": 5,
   "metadata": {},
   "outputs": [],
   "source": [
    "# Data processing\n",
    "X = super_model_data.drop('TmScore', axis=1).values\n",
    "y = super_model_data['TmScore'].values.reshape(-1, 1)\n",
    "X_train, X_test, y_train, y_test = train_test_split(X, y, test_size= 0.10)"
   ]
  },
  {
   "cell_type": "markdown",
   "metadata": {},
   "source": [
    "## Logistic Regressor Model"
   ]
  },
  {
   "cell_type": "code",
   "execution_count": 6,
   "metadata": {},
   "outputs": [
    {
     "name": "stdout",
     "output_type": "stream",
     "text": [
      "7.956521739130435\n"
     ]
    },
    {
     "name": "stderr",
     "output_type": "stream",
     "text": [
      "/opt/anaconda3/envs/dev/lib/python3.7/site-packages/sklearn/utils/validation.py:73: DataConversionWarning: A column-vector y was passed when a 1d array was expected. Please change the shape of y to (n_samples, ), for example using ravel().\n",
      "  return f(**kwargs)\n"
     ]
    },
    {
     "data": {
      "text/plain": [
       "LogisticRegression(C=0.01, solver='liblinear')"
      ]
     },
     "execution_count": 6,
     "metadata": {},
     "output_type": "execute_result"
    }
   ],
   "source": [
    "# Run Logistic Regression and select best mean_absolute_error \n",
    "\n",
    "LR_model = LogisticRegression(C=0.01, solver='liblinear')\n",
    "\n",
    "LR_model.fit(X_train, y_train)\n",
    "\n",
    "y_pred = LR_model.predict(X_test)\n",
    "\n",
    "print(mean_absolute_error(y_test, y_pred))\n",
    "\n",
    "best_score = mean_absolute_error(y_test, y_pred)\n",
    "\n",
    "super_model = LR_model\n",
    "\n",
    "super_model"
   ]
  },
  {
   "cell_type": "markdown",
   "metadata": {},
   "source": [
    "## MLP Regressor Model"
   ]
  },
  {
   "cell_type": "code",
   "execution_count": 7,
   "metadata": {},
   "outputs": [
    {
     "name": "stderr",
     "output_type": "stream",
     "text": [
      "/opt/anaconda3/envs/dev/lib/python3.7/site-packages/sklearn/utils/validation.py:73: DataConversionWarning: A column-vector y was passed when a 1d array was expected. Please change the shape of y to (n_samples, ), for example using ravel().\n",
      "  return f(**kwargs)\n"
     ]
    },
    {
     "name": "stdout",
     "output_type": "stream",
     "text": [
      "4.128767161284609\n"
     ]
    },
    {
     "data": {
      "text/plain": [
       "MLPRegressor(activation='identity', batch_size=30, hidden_layer_sizes=100,\n",
       "             max_iter=5000, random_state=40, solver='lbfgs')"
      ]
     },
     "execution_count": 7,
     "metadata": {},
     "output_type": "execute_result"
    }
   ],
   "source": [
    "# Run MLP Regression and select best mean_absolute_error \n",
    "\n",
    "\n",
    "MLP_model = MLPRegressor(hidden_layer_sizes=100, max_iter= 5000, random_state= 40, batch_size= 30, solver= 'lbfgs', \n",
    "                        activation= 'identity')\n",
    "\n",
    "MLP_model.fit(X_train, y_train)\n",
    "\n",
    "y_pred = MLP_model.predict(X_test)\n",
    "\n",
    "print(mean_absolute_error(y_test, y_pred))\n",
    "\n",
    "best_score = mean_absolute_error(y_test, y_pred)\n",
    "super_model = MLP_model\n",
    "\n",
    "super_model"
   ]
  },
  {
   "cell_type": "markdown",
   "metadata": {},
   "source": [
    "## Gradient Boosting Regressor Model"
   ]
  },
  {
   "cell_type": "code",
   "execution_count": 8,
   "metadata": {},
   "outputs": [
    {
     "name": "stderr",
     "output_type": "stream",
     "text": [
      "/opt/anaconda3/envs/dev/lib/python3.7/site-packages/sklearn/utils/validation.py:73: DataConversionWarning: A column-vector y was passed when a 1d array was expected. Please change the shape of y to (n_samples, ), for example using ravel().\n",
      "  return f(**kwargs)\n"
     ]
    },
    {
     "name": "stdout",
     "output_type": "stream",
     "text": [
      "4.979449230271352\n"
     ]
    },
    {
     "data": {
      "text/plain": [
       "MLPRegressor(activation='identity', batch_size=30, hidden_layer_sizes=100,\n",
       "             max_iter=5000, random_state=40, solver='lbfgs')"
      ]
     },
     "execution_count": 8,
     "metadata": {},
     "output_type": "execute_result"
    }
   ],
   "source": [
    "# Run Gradient Boosting Regression and select best mean_absolute_error \n",
    "\n",
    "GB_model = GradientBoostingRegressor(n_estimators= 2000, random_state= 20)\n",
    "\n",
    "GB_model.fit(X_train, y_train)\n",
    "\n",
    "y_pred = GB_model.predict(X_test)\n",
    "\n",
    "print(mean_absolute_error(y_test, y_pred))\n",
    " \n",
    "if (mean_absolute_error(y_test, y_pred) < best_score):\n",
    "  best_score = mean_absolute_error(y_test, y_pred)\n",
    "  super_model = GB_model\n",
    "\n",
    "super_model"
   ]
  },
  {
   "cell_type": "markdown",
   "metadata": {},
   "source": [
    "## Random Forest Regressor Model"
   ]
  },
  {
   "cell_type": "code",
   "execution_count": 9,
   "metadata": {},
   "outputs": [
    {
     "name": "stderr",
     "output_type": "stream",
     "text": [
      "/opt/anaconda3/envs/dev/lib/python3.7/site-packages/ipykernel_launcher.py:5: DataConversionWarning: A column-vector y was passed when a 1d array was expected. Please change the shape of y to (n_samples,), for example using ravel().\n",
      "  \"\"\"\n"
     ]
    },
    {
     "name": "stdout",
     "output_type": "stream",
     "text": [
      "3.6469565217391304\n"
     ]
    },
    {
     "data": {
      "text/plain": [
       "RandomForestRegressor(n_estimators=2000, random_state=20)"
      ]
     },
     "execution_count": 9,
     "metadata": {},
     "output_type": "execute_result"
    }
   ],
   "source": [
    "# Run Random Forest Regression and select best mean_absolute_error \n",
    "\n",
    "RF_model = RandomForestRegressor(n_estimators= 2000, random_state= 20)\n",
    "\n",
    "RF_model.fit(X_train, y_train)\n",
    "\n",
    "y_pred = RF_model.predict(X_test)\n",
    "\n",
    "print(mean_absolute_error(y_test, y_pred))\n",
    "\n",
    "if (mean_absolute_error(y_test, y_pred) < best_score):\n",
    "  best_score = mean_absolute_error(y_test, y_pred)\n",
    "  super_model = RF_model\n",
    "\n",
    "super_model"
   ]
  },
  {
   "cell_type": "code",
   "execution_count": 10,
   "metadata": {},
   "outputs": [
    {
     "data": {
      "text/plain": [
       "\"\\nimportance = MLP_model.feature_importances_\\n\\nfeature_names = super_model_data.drop('TmScore', axis=1).columns\\n\\nd = {'Var_Name': feature_names, 'Imp': importance}\\ndf = pd.DataFrame(data=d)\\ndf = df.sort_values(by= ['Imp'], ascending = False).reset_index(drop=True)\\ndf.head(15)\\n\""
      ]
     },
     "execution_count": 10,
     "metadata": {},
     "output_type": "execute_result"
    }
   ],
   "source": [
    "pd.options.display.max_rows = None\n",
    "\"\"\"\n",
    "importance = MLP_model.feature_importances_\n",
    "\n",
    "feature_names = super_model_data.drop('TmScore', axis=1).columns\n",
    "\n",
    "d = {'Var_Name': feature_names, 'Imp': importance}\n",
    "df = pd.DataFrame(data=d)\n",
    "df = df.sort_values(by= ['Imp'], ascending = False).reset_index(drop=True)\n",
    "df.head(15)\n",
    "\"\"\""
   ]
  },
  {
   "cell_type": "code",
   "execution_count": 11,
   "metadata": {},
   "outputs": [],
   "source": [
    "# function that return the score of two teams playing\n",
    "\n",
    "pd.options.display.max_columns = None\n",
    "\n",
    "# Create playoff test dataset from season averages\n",
    "\n",
    "def Praedico(home_team, away_team, super_model):\n",
    "    team1 = home_team\n",
    "    team2 = away_team\n",
    "    \n",
    "    team1_data = super_model_data[com_data['Team'] == team1].drop('TmScore', axis=1).reset_index(drop=True)\n",
    "    team2_data = super_model_data[com_data['Team'] == team2].drop('TmScore', axis=1).reset_index(drop=True)\n",
    "    \n",
    "    week_slice = slice(9,16)\n",
    "    \n",
    "    #1 Remove if no team names\n",
    "    team1_test = pd.DataFrame(team1_data[week_slice].mean(axis=0)).T #select week to use as average\n",
    "    team1_test\n",
    "    opp_columns = team1_test.filter(like='Opp').columns\n",
    "    \n",
    "    team1_test[opp_columns] = 0\n",
    "    team1_test['Opp_' + team2] = 1\n",
    "    team1_test['Home'] = 1\n",
    "    \n",
    "    #2\n",
    "    team2_test = pd.DataFrame(team2_data[week_slice].mean(axis=0)).T #select week to use as average\n",
    "    opp_columns = team2_test.filter(like='Opp').columns\n",
    "    \n",
    "    team2_test[opp_columns] = 0\n",
    "    team2_test['Opp_' + team1] = 1\n",
    "    team2_test['Home'] = 0 #remove home field advantage\n",
    "    \n",
    "    # head to head matchup\n",
    "    team1_test[['D_1stD','D_Tot_Yd','D_P_Yd','D_R_Yd','D_TO']] = team2_test[['O_1stD','O_Tot_yd','O_P_Yd','O_R_Yd','O_TO']]\n",
    "    team2_test[['D_1stD','D_Tot_Yd','D_P_Yd','D_R_Yd','D_TO']] = team1_test[['O_1stD','O_Tot_yd','O_P_Yd','O_R_Yd','O_TO']]\n",
    "    \n",
    "    X_Playoff_test = pd.concat([team1_test, team2_test])\n",
    "    X_Playoff_test.fillna(0, inplace = True) \n",
    "    \n",
    "    scores = super_model.predict(X_Playoff_test)\n",
    "    print(team1, \"will score\", round(scores[0], 1))\n",
    "    print(team2, \"will score\", round(scores[1], 1))\n",
    "    \n",
    "    if scores[0] > scores[1]:\n",
    "        winner = team1\n",
    "    else:\n",
    "        winner = team2\n",
    "        \n",
    "    print(winner, \"are the WINNERS!!!\")\n",
    "    \n",
    "    return scores, winner"
   ]
  },
  {
   "cell_type": "code",
   "execution_count": 12,
   "metadata": {},
   "outputs": [
    {
     "name": "stdout",
     "output_type": "stream",
     "text": [
      "(201, 57)\n"
     ]
    }
   ],
   "source": [
    "print(X_train.shape)"
   ]
  },
  {
   "cell_type": "markdown",
   "metadata": {},
   "source": [
    "### AFC Playoff Picture\n",
    "\n",
    "1. Tennessee Titans (12-5), champions, AFC South. The Titans held on against the Texans in Week 18 to stay ahead of the Chiefs and clinch the No. 1 seed. They have home-field advantage in the AFC playoffs and the lone bye. The conference road to Super Bowl 56 will go through Nashviille.\n",
    "\n",
    "2. Kansas City Chiefs (12-5), champions, AFC West. The Chiefs will settle for the No. 2 seed after beating the Broncos in Week 18 because they lost head-to-head to the Titans in Week 7. They did win Super Bowl 54 coming from this position behind the Ravens.\n",
    "\n",
    "3. Buffalo Bills (11-6), champions, AFC East. The Bills won the division and kept this seed with a home win over the Jets. They finish a game behind the co-AFC leaders and a game ahead of the Bengals after being the AFC's No. 2 in last year's playoffs.\n",
    "\n",
    "4. Cincinnati Bengals (10-7), champions, AFC North. The Bengals rested key players because of injuries and other reasons and lost without Joe Burrow and Joe Mixon at the Browns in Week 18. They were set to stay here behind the East champions.\n",
    "\n",
    "5. Las Vegas Raiders (10-7), second place, AFC West. The Raiders moved into playoff position with the Colts, whom they beat in Week 17, being upset by the Jaguars in Week 18. They earned a playoff berth with the wild overtime win over the Chargers on Sunday night.\n",
    "\n",
    "6. New England Patriots (10-7), second place, AFC East. The Patriots lost to the Dolphins in Week 18, but they had already lost the East title when the Bills beat the Jets. They dropped to No. 6 with the Raiders beating the Chargers on Sunday night because of losing the tiebreaker.\n",
    "\n",
    "7. Pittsburgh Steelers (9-7-1), second place, AFC North. The Steelers got into the playoffs to extend the career of Ben Roethlisberger by beating the Ravens in Week 18 while the Jaguars beat the Colts and the Raiders beat the Chargers.\n",
    "\n"
   ]
  },
  {
   "cell_type": "code",
   "execution_count": 13,
   "metadata": {},
   "outputs": [],
   "source": [
    "# Creat a list of AFC teams\n",
    "\n",
    "afc_playoff_picture = ['Tennessee Titans', 'Kansas City Chiefs', 'Buffalo Bills', 'Cincinnati Bengals', 'Las Vegas Raiders', 'New England Patriots', 'Pittsburgh Steelers']"
   ]
  },
  {
   "cell_type": "markdown",
   "metadata": {},
   "source": [
    "### NFC Playoff Picture\n",
    "\n",
    "1. Green Bay Packers (13-4), champions, NFC North. The Packers clinched the No. 1 seed, the lone bye and the Lambeau home-field advantage in the NFC playoffs with their win over the Vikings in Week 17, matching their win total of the previous two seasons with Aaron Rodgers under Matt LaFleur with one more game left in the new schedule. They lost in Week 18 while resting Rodgers and other regulars in the second half against the Lions.\n",
    "\n",
    "2. Tampa Bay Buccaneers (13-4), champions, NFC South. The Buccaneers beat the Panthers and moved up to No. 2 because the Rams, to whom they lost in Week 3, lost to the 49ers. They finished behind the Packers because of a lesser confference record and ahead of the Cowboys, up a full game and a head-to-head tiebreaker from Week 1.\n",
    "\n",
    "3. Dallas Cowboys (12-5), champions, NFC East. The Cowboys rebounded to rout the resting Eagles in Week 18 after they lost to the Cardinals in a failed comeback in Week 17. They were able to jump the losing Rams because of winning the conference-record tiebreaker over them.\n",
    "\n",
    "4. Los Angeles Rams (12-5), champions, NFC West. The Rams failed to beat the 49ers in Week 18 but still took back the division crown with the Cardinals losing another West matchup to the Seahawks at home. They cost themselves a No. 2 seed and now need to play a third game against the Cardinals.\n",
    "\n",
    "5. Arizona Cardinals (11-6), second place, NFC West. The Cardinals could have won the division with the Rams losing but they also lost to the Seahawks. They will settle for the top wild-card spot and a rematch with the Rams in the wild-card playoffs.\n",
    "\n",
    "6. San Francisco 49ers (10-7), third place, NFC West. The 49ers locked down the second wild card by beating the Rams in overtime in Week 18. They held off the winning Saints and got up a full game on the losing Eagles, whom they also beat in Week 2.\n",
    "\n",
    "7. Philadelphia Eagles (9-8), second place, NFC East. The Eagles rested players against the Cowboys in Week 18 after they had already clinched a wild-card spot in Week 17. They stayed ahead of the winning Saints because of beating that team in Week 11."
   ]
  },
  {
   "cell_type": "code",
   "execution_count": 14,
   "metadata": {},
   "outputs": [],
   "source": [
    "# Create a list of NFC teams\n",
    "nfc_playoff_picture = ['Green Bay Packers', 'Tampa Bay Buccaneers', 'Dallas Cowboys', 'Los Angeles Rams', 'Arizona Cardinals', 'San Francisco 49ers', 'Philadelphia Eagles'] "
   ]
  },
  {
   "cell_type": "code",
   "execution_count": 15,
   "metadata": {},
   "outputs": [],
   "source": [
    "# Remove top seed from list\n",
    "afc_divisional = []\n",
    "afc_divisional.append(afc_playoff_picture.pop(0))"
   ]
  },
  {
   "cell_type": "code",
   "execution_count": 16,
   "metadata": {},
   "outputs": [],
   "source": [
    "# Remove top seet from list\n",
    "\n",
    "nfc_divisional = []\n",
    "nfc_divisional.append(nfc_playoff_picture.pop(0))"
   ]
  },
  {
   "cell_type": "markdown",
   "metadata": {},
   "source": [
    "### AFC Playoff Wildcard Round "
   ]
  },
  {
   "cell_type": "code",
   "execution_count": 17,
   "metadata": {},
   "outputs": [
    {
     "name": "stdout",
     "output_type": "stream",
     "text": [
      "Kansas City Chiefs will score 26.5\n",
      "Pittsburgh Steelers will score 16.6\n",
      "Kansas City Chiefs are the WINNERS!!!\n",
      "Buffalo Bills will score 20.1\n",
      "New England Patriots will score 30.9\n",
      "New England Patriots are the WINNERS!!!\n",
      "Cincinnati Bengals will score 24.6\n",
      "Las Vegas Raiders will score 26.4\n",
      "Las Vegas Raiders are the WINNERS!!!\n"
     ]
    }
   ],
   "source": [
    "# Create a loop\n",
    "\n",
    "while len(afc_playoff_picture) > 0:\n",
    "    first_element = afc_playoff_picture.pop(0)\n",
    "    last_element = afc_playoff_picture.pop(-1)\n",
    "    score, team = Praedico(first_element, last_element, super_model)\n",
    "    afc_divisional.append(team)"
   ]
  },
  {
   "cell_type": "markdown",
   "metadata": {},
   "source": [
    "### NFC Playoff Wildcard Round "
   ]
  },
  {
   "cell_type": "code",
   "execution_count": 18,
   "metadata": {},
   "outputs": [
    {
     "name": "stdout",
     "output_type": "stream",
     "text": [
      "Tampa Bay Buccaneers will score 28.9\n",
      "Philadelphia Eagles will score 25.2\n",
      "Tampa Bay Buccaneers are the WINNERS!!!\n",
      "Dallas Cowboys will score 26.9\n",
      "San Francisco 49ers will score 28.4\n",
      "San Francisco 49ers are the WINNERS!!!\n",
      "Los Angeles Rams will score 21.5\n",
      "Arizona Cardinals will score 24.9\n",
      "Arizona Cardinals are the WINNERS!!!\n"
     ]
    }
   ],
   "source": [
    "# Create a loop\n",
    "\n",
    "while len(nfc_playoff_picture) > 0:\n",
    "    first_element = nfc_playoff_picture.pop(0)\n",
    "    last_element = nfc_playoff_picture.pop(-1)\n",
    "    score, team = Praedico(first_element, last_element, super_model)\n",
    "    nfc_divisional.append(team)"
   ]
  },
  {
   "cell_type": "code",
   "execution_count": 19,
   "metadata": {},
   "outputs": [
    {
     "data": {
      "text/plain": [
       "['Tennessee Titans',\n",
       " 'Kansas City Chiefs',\n",
       " 'New England Patriots',\n",
       " 'Las Vegas Raiders']"
      ]
     },
     "execution_count": 19,
     "metadata": {},
     "output_type": "execute_result"
    }
   ],
   "source": [
    "# Print the AFC Divisional list created \n",
    "afc_divisional"
   ]
  },
  {
   "cell_type": "code",
   "execution_count": 20,
   "metadata": {},
   "outputs": [
    {
     "data": {
      "text/plain": [
       "['Green Bay Packers',\n",
       " 'Tampa Bay Buccaneers',\n",
       " 'San Francisco 49ers',\n",
       " 'Arizona Cardinals']"
      ]
     },
     "execution_count": 20,
     "metadata": {},
     "output_type": "execute_result"
    }
   ],
   "source": [
    "# Print the NFC Divisional list created \n",
    "nfc_divisional"
   ]
  },
  {
   "cell_type": "code",
   "execution_count": 21,
   "metadata": {},
   "outputs": [],
   "source": [
    "# Set AFC Champion to a empty list\n",
    "afc_championship = []"
   ]
  },
  {
   "cell_type": "code",
   "execution_count": 22,
   "metadata": {},
   "outputs": [],
   "source": [
    "# Set NFC Champion to a empty list\n",
    "nfc_championship = []"
   ]
  },
  {
   "cell_type": "markdown",
   "metadata": {},
   "source": [
    "### AFC Divisional Round "
   ]
  },
  {
   "cell_type": "code",
   "execution_count": 23,
   "metadata": {},
   "outputs": [
    {
     "name": "stdout",
     "output_type": "stream",
     "text": [
      "Tennessee Titans will score 25.4\n",
      "Las Vegas Raiders will score 25.0\n",
      "Tennessee Titans are the WINNERS!!!\n",
      "Kansas City Chiefs will score 23.0\n",
      "New England Patriots will score 28.1\n",
      "New England Patriots are the WINNERS!!!\n"
     ]
    }
   ],
   "source": [
    "while len(afc_divisional) > 0:\n",
    "    first_element = afc_divisional.pop(0)\n",
    "    last_element = afc_divisional.pop(-1)\n",
    "    score, team = Praedico(first_element, last_element, super_model)\n",
    "    afc_championship.append(team)"
   ]
  },
  {
   "cell_type": "markdown",
   "metadata": {},
   "source": [
    "### NFC Divisional Round"
   ]
  },
  {
   "cell_type": "code",
   "execution_count": 24,
   "metadata": {},
   "outputs": [
    {
     "name": "stdout",
     "output_type": "stream",
     "text": [
      "Green Bay Packers will score 24.5\n",
      "Arizona Cardinals will score 22.9\n",
      "Green Bay Packers are the WINNERS!!!\n",
      "Tampa Bay Buccaneers will score 28.5\n",
      "San Francisco 49ers will score 26.7\n",
      "Tampa Bay Buccaneers are the WINNERS!!!\n"
     ]
    }
   ],
   "source": [
    "while len(nfc_divisional) > 0:\n",
    "    first_element = nfc_divisional.pop(0)\n",
    "    last_element = nfc_divisional.pop(-1)\n",
    "    score, team = Praedico(first_element, last_element, super_model)\n",
    "    nfc_championship.append(team)"
   ]
  },
  {
   "cell_type": "markdown",
   "metadata": {},
   "source": [
    "### AFC Championship"
   ]
  },
  {
   "cell_type": "code",
   "execution_count": 25,
   "metadata": {},
   "outputs": [
    {
     "name": "stdout",
     "output_type": "stream",
     "text": [
      "Tennessee Titans will score 15.8\n",
      "New England Patriots will score 35.2\n",
      "New England Patriots are the WINNERS!!!\n"
     ]
    }
   ],
   "source": [
    "score, afc_team = Praedico(afc_championship.pop(0), afc_championship.pop(-1), super_model)"
   ]
  },
  {
   "cell_type": "markdown",
   "metadata": {},
   "source": [
    "### NFC Championship"
   ]
  },
  {
   "cell_type": "code",
   "execution_count": 26,
   "metadata": {},
   "outputs": [
    {
     "name": "stdout",
     "output_type": "stream",
     "text": [
      "Green Bay Packers will score 26.7\n",
      "Tampa Bay Buccaneers will score 25.9\n",
      "Green Bay Packers are the WINNERS!!!\n"
     ]
    }
   ],
   "source": [
    "score, nfc_team = Praedico(nfc_championship.pop(0), nfc_championship.pop(-1), super_model)"
   ]
  },
  {
   "cell_type": "markdown",
   "metadata": {},
   "source": [
    "### Super Bowl LVI"
   ]
  },
  {
   "cell_type": "code",
   "execution_count": 27,
   "metadata": {},
   "outputs": [
    {
     "name": "stdout",
     "output_type": "stream",
     "text": [
      "Green Bay Packers will score 24.4\n",
      "New England Patriots will score 28.1\n",
      "New England Patriots are the WINNERS!!!\n",
      "Congratulations to the New England Patriots for winning Super Bowl LVI!\n"
     ]
    }
   ],
   "source": [
    "score, super_bowl_team = Praedico(nfc_team, afc_team, super_model)\n",
    "print(f'Congratulations to the {super_bowl_team} for winning Super Bowl LVI!')"
   ]
  },
  {
   "cell_type": "code",
   "execution_count": 28,
   "metadata": {},
   "outputs": [
    {
     "name": "stdout",
     "output_type": "stream",
     "text": [
      "The super_model with the lowest mean absolute error used was RandomForestRegressor(n_estimators=2000, random_state=20).\n"
     ]
    }
   ],
   "source": [
    "print(f'The super_model with the lowest mean absolute error used was {super_model}.')"
   ]
  },
  {
   "cell_type": "code",
   "execution_count": null,
   "metadata": {},
   "outputs": [],
   "source": []
  }
 ],
 "metadata": {
  "kernelspec": {
   "display_name": "Python 3",
   "language": "python",
   "name": "python3"
  },
  "language_info": {
   "codemirror_mode": {
    "name": "ipython",
    "version": 3
   },
   "file_extension": ".py",
   "mimetype": "text/x-python",
   "name": "python",
   "nbconvert_exporter": "python",
   "pygments_lexer": "ipython3",
   "version": "3.7.7"
  }
 },
 "nbformat": 4,
 "nbformat_minor": 4
}
